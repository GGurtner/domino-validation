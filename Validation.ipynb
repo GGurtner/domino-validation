{
 "cells": [
  {
   "cell_type": "code",
   "execution_count": 1,
   "metadata": {},
   "outputs": [
    {
     "name": "stdout",
     "output_type": "stream",
     "text": [
      "Populating the interactive namespace from numpy and matplotlib\n"
     ]
    }
   ],
   "source": [
    "%pylab inline"
   ]
  },
  {
   "cell_type": "code",
   "execution_count": 2,
   "metadata": {},
   "outputs": [],
   "source": [
    "import sys\n",
    "sys.path.insert(1, '../domino/libs')\n",
    "sys.path.insert(1, '../domino')\n",
    "sys.path.insert(1, '/home/earendil/Documents/MyLib')\n",
    "\n",
    "style.use('/home/earendil/Documents/MyLib/big_plt_style.mplstyle')\n",
    "\n",
    "import pandas as pd\n",
    "\n",
    "from libs.utilities import domino_mysql_server, read_mysql"
   ]
  },
  {
   "cell_type": "markdown",
   "metadata": {},
   "source": [
    "# Pulling data"
   ]
  },
  {
   "cell_type": "code",
   "execution_count": 237,
   "metadata": {},
   "outputs": [],
   "source": [
    "model_version = '1.13'\n",
    "scenario_id = -20\n",
    "\n",
    "n_iter = 31\n",
    "n_iters = [31, 32, 33, 34, 35, 36, 37]#[0, 1, 2, 3, 4, 5]"
   ]
  },
  {
   "cell_type": "markdown",
   "metadata": {},
   "source": [
    "## Single iteration, historical data, and multiple iterations"
   ]
  },
  {
   "cell_type": "code",
   "execution_count": 223,
   "metadata": {},
   "outputs": [
    {
     "name": "stdout",
     "output_type": "stream",
     "text": [
      "DB connection to 127.0.0.1 with ssh tunneling through archdb.fst.westminster.ac.uk\n"
     ]
    }
   ],
   "source": [
    "with domino_mysql_server(profile='remote_direct') as connection:\n",
    "#     # Get model output\n",
    "#     query = \"SELECT * FROM output_flights where model_version='\" + model_version +\\\n",
    "#             \"' AND scenario_id=\" + str(scenario_id) + \" AND n_iter=\" + str(n_iter)\n",
    "#     df = read_mysql(query=query, engine=connection['engine'])\n",
    "\n",
    "    query = \"\"\"SELECT\n",
    "            ddr.ifps_id,\n",
    "            f.callsign as flight_number,\n",
    "            f.registration as tail_number,\n",
    "            f.origin as origin_airport,\n",
    "            f.destination as destination_airport,\n",
    "            origin.mean_taxi_out,\n",
    "            origin.std_taxi_out,\n",
    "            destination.mean_taxi_in,\n",
    "            destination.std_taxi_in,\n",
    "            f.sobt,\n",
    "            ddr.aobt,\n",
    "            ddr.take_off_time,\n",
    "            ddr.take_off_time_sch,\n",
    "            f.sibt,\n",
    "            ddr.landing_time,\n",
    "            ddr.landing_time_sch,\n",
    "            CASE ddr.landing_time\n",
    "                WHEN NULL THEN NULL\n",
    "                ELSE ddr.landing_time + INTERVAL mean_taxi_in MINUTE\n",
    "            END AS aibt,\n",
    "            ddr.cancelled,\n",
    "            ddr.distance,\n",
    "            ddr.distance_sch\n",
    "            FROM domino_environment.flight_schedule AS f\n",
    "            JOIN domino_environment.ddr_for_analyses AS ddr ON ddr.ifps_id=f.ifps_id\n",
    "            JOIN (\n",
    "                SELECT a_s_o.icao_id, \n",
    "                        IF(t_o.mean_txo is not NULL, t_o.mean_txo, a_s_o.mean_taxi_out) as mean_taxi_out,\n",
    "                        IF(t_o.std_deviation is not NULL, t_o.std_deviation, a_s_o.std_taxi_out) as std_taxi_out\n",
    "                FROM domino_environment.airport_info_static AS a_s_o\n",
    "                LEFT JOIN domino_environment.taxi_out_static AS t_o ON t_o.icao_id=a_s_o.icao_id\n",
    "                ) as origin ON origin.icao_id = f.origin\n",
    "            JOIN (SELECT a_s_d.icao_id,\n",
    "                        IF(t_i.mean_txi is not NULL, t_i.mean_txi, a_s_d.mean_taxi_in) as mean_taxi_in,\n",
    "                        IF(t_i.std_deviation is not NULL, t_i.std_deviation, a_s_d.std_taxi_in) as std_taxi_in\n",
    "                FROM domino_environment.airport_info_static AS a_s_d\n",
    "                LEFT JOIN domino_environment.taxi_in_static AS t_i ON t_i.icao_id=a_s_d.icao_id\n",
    "                ) as destination ON destination.icao_id = f.destination\"\"\"\n",
    "    df_hist = read_mysql(query=query, engine=connection['engine'])"
   ]
  },
  {
   "cell_type": "code",
   "execution_count": 224,
   "metadata": {},
   "outputs": [
    {
     "data": {
      "text/plain": [
       "27261"
      ]
     },
     "execution_count": 224,
     "metadata": {},
     "output_type": "execute_result"
    }
   ],
   "source": [
    "len(df_hist)"
   ]
  },
  {
   "cell_type": "code",
   "execution_count": 238,
   "metadata": {},
   "outputs": [
    {
     "name": "stdout",
     "output_type": "stream",
     "text": [
      "DB connection to 127.0.0.1 with ssh tunneling through archdb.fst.westminster.ac.uk\n",
      "SELECT * FROM output_flights where model_version='1.13' AND scenario_id=-20 AND (n_iter=31 OR n_iter=32 OR n_iter=33 OR n_iter=34 OR n_iter=35 OR n_iter=36 OR n_iter=37)\n"
     ]
    }
   ],
   "source": [
    "with domino_mysql_server(profile='remote_direct') as connection:\n",
    "    query = \"SELECT * FROM output_flights where model_version='\" + model_version +\\\n",
    "            \"' AND scenario_id=\" + str(scenario_id) + \" AND (\"\n",
    "\n",
    "    for n in n_iters:\n",
    "        query += 'n_iter=' + str(n) + ' OR '\n",
    "\n",
    "    query = query[:-4] + ')'\n",
    "\n",
    "    df = read_mysql(query=query, engine=connection['engine'])\n",
    "    print (query)"
   ]
  },
  {
   "cell_type": "code",
   "execution_count": 239,
   "metadata": {},
   "outputs": [
    {
     "name": "stdout",
     "output_type": "stream",
     "text": [
      "DB connection to 127.0.0.1 with ssh tunneling through archdb.fst.westminster.ac.uk\n"
     ]
    },
    {
     "data": {
      "text/html": [
       "<div>\n",
       "<style scoped>\n",
       "    .dataframe tbody tr th:only-of-type {\n",
       "        vertical-align: middle;\n",
       "    }\n",
       "\n",
       "    .dataframe tbody tr th {\n",
       "        vertical-align: top;\n",
       "    }\n",
       "\n",
       "    .dataframe thead th {\n",
       "        text-align: right;\n",
       "    }\n",
       "</style>\n",
       "<table border=\"1\" class=\"dataframe\">\n",
       "  <thead>\n",
       "    <tr style=\"text-align: right;\">\n",
       "      <th></th>\n",
       "      <th>id</th>\n",
       "      <th>ifps_id</th>\n",
       "    </tr>\n",
       "  </thead>\n",
       "  <tbody>\n",
       "    <tr>\n",
       "      <th>0</th>\n",
       "      <td>66912</td>\n",
       "      <td>AA34820675</td>\n",
       "    </tr>\n",
       "    <tr>\n",
       "      <th>1</th>\n",
       "      <td>67332</td>\n",
       "      <td>AA34820700</td>\n",
       "    </tr>\n",
       "    <tr>\n",
       "      <th>2</th>\n",
       "      <td>60425</td>\n",
       "      <td>AA34850875</td>\n",
       "    </tr>\n",
       "    <tr>\n",
       "      <th>3</th>\n",
       "      <td>34547</td>\n",
       "      <td>AA34859875</td>\n",
       "    </tr>\n",
       "    <tr>\n",
       "      <th>4</th>\n",
       "      <td>34696</td>\n",
       "      <td>AA34860589</td>\n",
       "    </tr>\n",
       "  </tbody>\n",
       "</table>\n",
       "</div>"
      ],
      "text/plain": [
       "      id     ifps_id\n",
       "0  66912  AA34820675\n",
       "1  67332  AA34820700\n",
       "2  60425  AA34850875\n",
       "3  34547  AA34859875\n",
       "4  34696  AA34860589"
      ]
     },
     "execution_count": 239,
     "metadata": {},
     "output_type": "execute_result"
    }
   ],
   "source": [
    "# Get the flight schedules to have the relationships between id and ifps_id\n",
    "with domino_mysql_server(profile='remote_direct') as connection:\n",
    "    query = \"SELECT of.id, fs.ifps_id FROM output_flights of JOIN flight_schedule as fs ON fs.nid=of.id WHERE model_version='\"\\\n",
    "    + model_version + \"' AND scenario_id=\" + str(scenario_id) + \" AND n_iter=\" + str(n_iter)\n",
    "\n",
    "    df_sch = read_mysql(query=query, engine=connection['engine'])\n",
    "    df_sch.rename(columns={'nid':'id'}, inplace=True)\n",
    "    \n",
    "df_sch.head()"
   ]
  },
  {
   "cell_type": "markdown",
   "metadata": {},
   "source": [
    "## Derived metrics"
   ]
  },
  {
   "cell_type": "code",
   "execution_count": 240,
   "metadata": {},
   "outputs": [],
   "source": [
    "#df_hist['sibt']"
   ]
  },
  {
   "cell_type": "code",
   "execution_count": 241,
   "metadata": {},
   "outputs": [],
   "source": [
    "df['departure_delay'] = (df['aobt']-df['sobt']).dt.total_seconds()/60.\n",
    "df['arrival_delay'] = (df['aibt']-df['sibt']).dt.total_seconds()/60.\n",
    "df['scheduled_G2G_time'] = (df['sibt']-df['sobt']).dt.total_seconds()/60.\n",
    "df['actual_G2G_time'] = (df['aibt']-df['aobt']).dt.total_seconds()/60.\n",
    "df['travelling_time_diff'] = ((df['aibt']-df['aobt']) - (df['sibt']-df['sobt'])).dt.total_seconds()/60.\n",
    "df['scheduled_flying_time'] = df['m1_fp_time_min']\n",
    "df['actual_flying_time'] = df['m3_fp_time_min']\n",
    "df['scheduled_flying_distance'] = df['m1_climb_dist_nm'] + df['m1_cruise_dist_nm'] + df['m1_descent_dist_nm']\n",
    "df['actual_flying_distance'] = df['m3_climb_dist_nm'] + df['m3_cruise_dist_nm'] + df['m3_descent_dist_nm']\n",
    "\n",
    "df_hist['departure_delay'] = (df_hist['aobt']-df_hist['sobt']).dt.total_seconds()/60.\n",
    "df_hist['arrival_delay'] = (df_hist['aibt']-df_hist['sibt']).dt.total_seconds()/60.\n",
    "df_hist['scheduled_G2G_time'] = (df_hist['sibt']-df_hist['sobt']).dt.total_seconds()/60.\n",
    "df_hist['actual_G2G_time'] = (df_hist['aibt']-df_hist['aobt']).dt.total_seconds()/60.\n",
    "df_hist['travelling_time_diff'] = ((df_hist['aibt']-df_hist['aobt']) - (df_hist['sibt']-df_hist['sobt'])).dt.total_seconds()/60.\n",
    "df_hist['scheduled_flying_time'] = (df_hist['landing_time_sch'] - df_hist['take_off_time_sch']).dt.total_seconds()/60.\n",
    "df_hist['actual_flying_time'] = (df_hist['landing_time'] - df_hist['take_off_time']).dt.total_seconds()/60.\n",
    "df_hist['taxi_out_traj'] = (df_hist['take_off_time'] - df_hist['aobt']).dt.total_seconds()/60.\n",
    "df_hist['taxi_out'] = df_hist['mean_taxi_out']\n",
    "df_hist['taxi_in'] = df_hist['mean_taxi_in']\n",
    "#df_hist['taxi_in_traj'] = (df_hist['aibt'] - df_hist['landing_time']).dt.total_seconds()/60.\n",
    "df_hist['scheduled_flying_distance'] = df_hist['distance_sch']/1.852\n",
    "df_hist['actual_flying_distance'] = df_hist['distance']/1.852\n",
    "#df_hist['arrival_delay'] = (df_hist['aibt']-df_hist['sibt']).dt.total_seconds()/60."
   ]
  },
  {
   "cell_type": "code",
   "execution_count": 242,
   "metadata": {},
   "outputs": [],
   "source": [
    "# For single iteration stuff\n",
    "df2 = df[df['n_iter']==n_iter]\n",
    "yo = df2.set_index('id').sort_index()\n",
    "yoyo = df_sch.set_index('id')\n",
    "yoyo.sort_index(inplace=True)\n",
    "df2 = pd.concat([yo, yoyo],\n",
    "               axis=1)\n",
    "#df2.join(df_sch, on='id', lsuffix='_out', rsuffix='_sch', how='inner')\n",
    "#df2.head()"
   ]
  },
  {
   "cell_type": "code",
   "execution_count": 243,
   "metadata": {},
   "outputs": [],
   "source": [
    "df_hist['ifps_id'] = df_hist['ifps_id'].astype(str)\n",
    "df2['ifps_id'] = df2['ifps_id'].astype(str)"
   ]
  },
  {
   "cell_type": "code",
   "execution_count": 244,
   "metadata": {},
   "outputs": [
    {
     "data": {
      "text/html": [
       "<div>\n",
       "<style scoped>\n",
       "    .dataframe tbody tr th:only-of-type {\n",
       "        vertical-align: middle;\n",
       "    }\n",
       "\n",
       "    .dataframe tbody tr th {\n",
       "        vertical-align: top;\n",
       "    }\n",
       "\n",
       "    .dataframe thead th {\n",
       "        text-align: right;\n",
       "    }\n",
       "</style>\n",
       "<table border=\"1\" class=\"dataframe\">\n",
       "  <thead>\n",
       "    <tr style=\"text-align: right;\">\n",
       "      <th></th>\n",
       "      <th>scheduled_flying_distance_hist</th>\n",
       "      <th>actual_flying_distance_hist</th>\n",
       "      <th>scheduled_flying_distance_sim</th>\n",
       "      <th>actual_flying_distance_sim</th>\n",
       "      <th>diff_sch</th>\n",
       "    </tr>\n",
       "  </thead>\n",
       "  <tbody>\n",
       "    <tr>\n",
       "      <th>AA34820675</th>\n",
       "      <td>237.580994</td>\n",
       "      <td>197.084233</td>\n",
       "      <td>237.58</td>\n",
       "      <td>237.58</td>\n",
       "      <td>-0.000994</td>\n",
       "    </tr>\n",
       "    <tr>\n",
       "      <th>AA34820700</th>\n",
       "      <td>182.505400</td>\n",
       "      <td>182.505400</td>\n",
       "      <td>266.20</td>\n",
       "      <td>257.17</td>\n",
       "      <td>83.694600</td>\n",
       "    </tr>\n",
       "    <tr>\n",
       "      <th>AA34850875</th>\n",
       "      <td>633.909287</td>\n",
       "      <td>627.969762</td>\n",
       "      <td>633.91</td>\n",
       "      <td>603.34</td>\n",
       "      <td>0.000713</td>\n",
       "    </tr>\n",
       "    <tr>\n",
       "      <th>AA34859875</th>\n",
       "      <td>2258.099352</td>\n",
       "      <td>2247.300216</td>\n",
       "      <td>2413.61</td>\n",
       "      <td>2395.16</td>\n",
       "      <td>155.510648</td>\n",
       "    </tr>\n",
       "    <tr>\n",
       "      <th>AA34860589</th>\n",
       "      <td>964.362851</td>\n",
       "      <td>964.362851</td>\n",
       "      <td>964.36</td>\n",
       "      <td>918.23</td>\n",
       "      <td>-0.002851</td>\n",
       "    </tr>\n",
       "  </tbody>\n",
       "</table>\n",
       "</div>"
      ],
      "text/plain": [
       "            scheduled_flying_distance_hist  actual_flying_distance_hist  \\\n",
       "AA34820675                      237.580994                   197.084233   \n",
       "AA34820700                      182.505400                   182.505400   \n",
       "AA34850875                      633.909287                   627.969762   \n",
       "AA34859875                     2258.099352                  2247.300216   \n",
       "AA34860589                      964.362851                   964.362851   \n",
       "\n",
       "            scheduled_flying_distance_sim  actual_flying_distance_sim  \\\n",
       "AA34820675                         237.58                      237.58   \n",
       "AA34820700                         266.20                      257.17   \n",
       "AA34850875                         633.91                      603.34   \n",
       "AA34859875                        2413.61                     2395.16   \n",
       "AA34860589                         964.36                      918.23   \n",
       "\n",
       "              diff_sch  \n",
       "AA34820675   -0.000994  \n",
       "AA34820700   83.694600  \n",
       "AA34850875    0.000713  \n",
       "AA34859875  155.510648  \n",
       "AA34860589   -0.002851  "
      ]
     },
     "execution_count": 244,
     "metadata": {},
     "output_type": "execute_result"
    }
   ],
   "source": [
    "coin = df_hist[['ifps_id', 'scheduled_flying_distance', 'actual_flying_distance']].set_index('ifps_id')\n",
    "pouet = df2[['ifps_id', 'scheduled_flying_distance', 'actual_flying_distance']].set_index('ifps_id')\n",
    "#pouet.join(coin, on='ifps_id', how='inner', lsuffix='hist', rsuffix='sim')\n",
    "go = pd.concat([coin.rename(columns={col:col+'_hist' for col in coin.columns}), \n",
    "                pouet.rename(columns={col:col+'_sim' for col in pouet.columns})],\n",
    "               axis=1)\n",
    "go['diff_sch'] = go['scheduled_flying_distance_sim'] - go['scheduled_flying_distance_hist']\n",
    "go.head()"
   ]
  },
  {
   "cell_type": "markdown",
   "metadata": {},
   "source": [
    "# Average values"
   ]
  },
  {
   "cell_type": "code",
   "execution_count": 245,
   "metadata": {},
   "outputs": [
    {
     "name": "stdout",
     "output_type": "stream",
     "text": [
      "Number of flights: 163566 27261 27261\n"
     ]
    }
   ],
   "source": [
    "print ('Number of flights:', len(df), len(df2), len(df_hist))"
   ]
  },
  {
   "cell_type": "code",
   "execution_count": 246,
   "metadata": {},
   "outputs": [
    {
     "name": "stdout",
     "output_type": "stream",
     "text": [
      "First values are from model, second ones are from historical data\n",
      "Average departure delay: 11.583583588579126 11.42863370138048\n",
      "Average arrival delay: 6.519262583981585 6.648379247520879\n",
      "Average scheduled G2G time: 159.46605040167273 159.46605040167273\n",
      "Average actual G2G time: 154.32701914499418 154.68579594781312\n",
      "Average scheduled flying time: 135.14085665725148 137.276259124757\n",
      "Average actual flying time: 135.6695853477477 137.11586087573212\n",
      "Average scheduled flying distance: 965.2752106794808 960.5703382620114\n",
      "Average actual flying distance: 954.1574564583867 948.5148880397261\n",
      "Average actual taxi-out time: 12.252893999975544 12.517607631788076 11.837790249807417\n",
      "Average actual taxi-in time: 5.650970128266266 5.728038047303737\n",
      "Average G2G diff. time bet. scheduled and actual: -5.064321004597543 -4.780254453859604\n"
     ]
    }
   ],
   "source": [
    "print ('First values are from model, second ones are from historical data')\n",
    "print ('Average departure delay:', df['departure_delay'].mean(), df_hist['departure_delay'].mean())\n",
    "print ('Average arrival delay:', df['arrival_delay'].mean(), df_hist['arrival_delay'].mean())\n",
    "print ('Average scheduled G2G time:', df['scheduled_G2G_time'].mean(), df_hist['scheduled_G2G_time'].mean())\n",
    "print ('Average actual G2G time:', df['actual_G2G_time'].mean(), df_hist['actual_G2G_time'].mean())\n",
    "print ('Average scheduled flying time:', df['scheduled_flying_time'].mean(), df_hist['scheduled_flying_time'].mean())\n",
    "print ('Average actual flying time:', df['actual_flying_time'].mean(), df_hist['actual_flying_time'].mean())\n",
    "print ('Average scheduled flying distance:', df['scheduled_flying_distance'].mean(), df_hist['scheduled_flying_distance'].mean())\n",
    "print ('Average actual flying distance:', df['actual_flying_distance'].mean(), df_hist['actual_flying_distance'].mean())\n",
    "print ('Average actual taxi-out time:', df['axot'].mean(), df_hist['taxi_out'].mean(), df_hist['taxi_out_traj'].mean())\n",
    "print ('Average actual taxi-in time:', df['axit'].mean(), df_hist['taxi_in'].mean())\n",
    "print ('Average G2G diff. time bet. scheduled and actual:', df['travelling_time_diff'].mean(), df_hist['travelling_time_diff'].mean())"
   ]
  },
  {
   "cell_type": "code",
   "execution_count": 247,
   "metadata": {},
   "outputs": [
    {
     "data": {
      "text/plain": [
       "0.3757647066016165"
      ]
     },
     "execution_count": 247,
     "metadata": {},
     "output_type": "execute_result"
    }
   ],
   "source": [
    "df['m3_holding_time'].mean()"
   ]
  },
  {
   "cell_type": "code",
   "execution_count": 248,
   "metadata": {},
   "outputs": [
    {
     "name": "stdout",
     "output_type": "stream",
     "text": [
      "Reactionary delay proportion: 0.32463480560687225 0.445\n",
      "Turnaround delay proportion: 0.412180367618168 0.358\n",
      "ATFM en-route delay proportion: 0.16731011047616426 0.075\n",
      "ATFM airport delay proportion: 0.06539055157947828 0.072\n",
      "ATFM weather delay proportion: 0.03048416471931748 0.019\n",
      "\n",
      "Additional reactionary delay needed to reach the target (in avg per flight): 1.4003249992867293 min\n",
      "Additional turnaround delay needed to reach the target (in avg per flight): -0.5878272244843075 min\n",
      "Additional ATFM en-route delay needed to reach the target (in avg per flight): -1.0422406908118642 min\n",
      "Additional ATFM airport delay needed to reach the target (in avg per flight): 0.08051531573391357 min\n",
      "Additional ATFM weather delay needed to reach the target (in avg per flight): -0.12892747412869024 min\n",
      "Check no reason delay (should be 0): 0.0\n"
     ]
    }
   ],
   "source": [
    "# Types of delays\n",
    "a1, a2, a3, a4, a5 = 0.445, 0.358, 0.075, 0.072, 0.019 # from PRR 2017 (TODO: find 2014)\n",
    "tot_delay =  df['departure_delay'].sum()\n",
    "target_avg_delay = df_hist['departure_delay'].mean()\n",
    "print ('Reactionary delay proportion:', df[df['main_reason_delay']=='RD']['departure_delay'].sum()/tot_delay, a1)\n",
    "print ('Turnaround delay proportion:', df[df['main_reason_delay']=='TA']['departure_delay'].sum()/tot_delay, a2)\n",
    "print ('ATFM en-route delay proportion:', df[df['main_reason_delay']=='ER']['departure_delay'].sum()/tot_delay, a3)\n",
    "print ('ATFM airport delay proportion:', df[df['main_reason_delay']=='C']['departure_delay'].sum()/tot_delay, a4)\n",
    "print ('ATFM weather delay proportion:', df[df['main_reason_delay']=='W']['departure_delay'].sum()/tot_delay, a5)\n",
    "print ()\n",
    "\n",
    "# Missing absolute delay for each type:\n",
    "print ('Additional reactionary delay needed to reach the target (in avg per flight):', a1*target_avg_delay - df[df['main_reason_delay']=='RD']['departure_delay'].sum()/len(df), 'min')\n",
    "print ('Additional turnaround delay needed to reach the target (in avg per flight):', a2*target_avg_delay - df[df['main_reason_delay']=='TA']['departure_delay'].sum()/len(df), 'min')\n",
    "print ('Additional ATFM en-route delay needed to reach the target (in avg per flight):', a3*target_avg_delay - df[df['main_reason_delay']=='ER']['departure_delay'].sum()/len(df), 'min')\n",
    "print ('Additional ATFM airport delay needed to reach the target (in avg per flight):', a4*target_avg_delay - df[df['main_reason_delay']=='C']['departure_delay'].sum()/len(df), 'min')\n",
    "print ('Additional ATFM weather delay needed to reach the target (in avg per flight):', a5*target_avg_delay - df[df['main_reason_delay']=='W']['departure_delay'].sum()/len(df), 'min')\n",
    "print ('Check no reason delay (should be 0):', df[pd.isnull(df['main_reason_delay'])]['departure_delay'].sum())"
   ]
  },
  {
   "cell_type": "code",
   "execution_count": 250,
   "metadata": {},
   "outputs": [
    {
     "name": "stdout",
     "output_type": "stream",
     "text": [
      "Arrival delay is composed of:\n",
      "- departure delay: 11.583583588579126 11.42863370138048\n",
      "- flying delay: 0.528728690496223 -0.16039824902486544\n",
      "- taxi delay: -5.593049695093764 -4.619856204834736\n",
      "Total: 6.519262583981585 6.648379247520879\n"
     ]
    }
   ],
   "source": [
    "# Arrival delays\n",
    "print ('Arrival delay is composed of:')\n",
    "print ('- departure delay:', df['departure_delay'].mean(),  df_hist['departure_delay'].mean())\n",
    "print ('- flying delay:', df['actual_flying_time'].mean() - df['scheduled_flying_time'].mean(), df_hist['actual_flying_time'].mean() - df_hist['scheduled_flying_time'].mean())\n",
    "taxi_delay_sim = df['arrival_delay'].mean() -  df['departure_delay'].mean() - (df['actual_flying_time'].mean() - df['scheduled_flying_time'].mean())\n",
    "taxi_delay_hist = df_hist['arrival_delay'].mean() -  df_hist['departure_delay'].mean() - (df_hist['actual_flying_time'].mean() - df_hist['scheduled_flying_time'].mean())\n",
    "print ('- taxi delay:', taxi_delay_sim, taxi_delay_hist)\n",
    "print ('Total:', df['arrival_delay'].mean(), df_hist['arrival_delay'].mean())"
   ]
  },
  {
   "cell_type": "markdown",
   "metadata": {},
   "source": [
    "# Distributions"
   ]
  },
  {
   "cell_type": "markdown",
   "metadata": {},
   "source": [
    "## Departure delay"
   ]
  },
  {
   "cell_type": "code",
   "execution_count": 251,
   "metadata": {},
   "outputs": [
    {
     "data": {
      "image/png": "[encoded data removed]",
      "text/plain": [
       "<Figure size 1080x720 with 1 Axes>"
      ]
     },
     "metadata": {},
     "output_type": "display_data"
    }
   ],
   "source": [
    "fig, ax = subplots(figsize=(15, 10))\n",
    "df['departure_delay'].hist(bins=500, ax=ax, alpha=0.7, label='Dep. delay')\n",
    "df['atfm_delay'].hist(bins=500, ax=ax, alpha=0.7, label='ATFM delay')\n",
    "ax.legend()\n",
    "ax.set_title('Departure and ATFM delay')\n",
    "ax.set_xlim((0, 100))\n",
    "ax.set_yscale('log')"
   ]
  },
  {
   "cell_type": "code",
   "execution_count": 252,
   "metadata": {},
   "outputs": [
    {
     "data": {
      "text/plain": [
       "(-20, 100)"
      ]
     },
     "execution_count": 252,
     "metadata": {},
     "output_type": "execute_result"
    },
    {
     "data": {
      "image/png": "[encoded data removed]",
      "text/plain": [
       "<Figure size 1080x720 with 1 Axes>"
      ]
     },
     "metadata": {},
     "output_type": "display_data"
    }
   ],
   "source": [
    "fig, ax = subplots(figsize=(15, 10))\n",
    "df['departure_delay'].hist(bins=500, ax=ax, alpha=0.7, label='Sim.', cumulative=True, normed=True)\n",
    "df_hist['departure_delay'].hist(bins=500, ax=ax, alpha=0.7, label='Hist.', cumulative=True, normed=True)\n",
    "ax.legend()\n",
    "ax.set_title('Calibration departure delay')\n",
    "ax.set_xlim((-20, 100))\n",
    "#ax.set_yscale('log')"
   ]
  },
  {
   "cell_type": "code",
   "execution_count": 253,
   "metadata": {},
   "outputs": [
    {
     "data": {
      "text/plain": [
       "(-20, 100)"
      ]
     },
     "execution_count": 253,
     "metadata": {},
     "output_type": "execute_result"
    },
    {
     "data": {
      "image/png": "[encoded data removed]",
      "text/plain": [
       "<Figure size 1080x720 with 1 Axes>"
      ]
     },
     "metadata": {},
     "output_type": "display_data"
    }
   ],
   "source": [
    "fig, ax = subplots(figsize=(15, 10))\n",
    "df['departure_delay'].hist(bins=500, ax=ax, alpha=0.7, label='Sim.', cumulative=True, normed=True)\n",
    "df_hist[df_hist['departure_delay']>=0.]['departure_delay'].hist(bins=500, ax=ax, alpha=0.7, label='Hist.', cumulative=True, normed=True)\n",
    "ax.legend()\n",
    "ax.set_title('Calibration on positive departure delay')\n",
    "ax.set_xlim((-20, 100))\n",
    "#ax.set_yscale('log')"
   ]
  },
  {
   "cell_type": "code",
   "execution_count": 254,
   "metadata": {},
   "outputs": [],
   "source": [
    "# # departure delay per type of delay\n",
    "# options = {'bins':100, 'cumulative':True, 'alpha':0.7, 'normed':True}\n",
    "# fig, axes = subplots(3, 2, figsize=(15, 15))\n",
    "# df[df['main_reason_delay']=='RD']['departure_delay'].hist(ax=axes[0][0], label='Sim.', **options)\n",
    "# df[df['main_reason_delay']=='TA']['departure_delay'].hist(ax=axes[0][1], label='Sim.', **options)\n",
    "# df[df['main_reason_delay']=='ER']['departure_delay'].hist(ax=axes[1][0], label='Sim.', **options)\n",
    "# df[df['main_reason_delay']=='C']['departure_delay'].hist(ax=axes[1][1], label='Sim.', **options)\n",
    "# df[df['main_reason_delay']=='W']['departure_delay'].hist(ax=axes[2][0], label='Sim.', **options)"
   ]
  },
  {
   "cell_type": "code",
   "execution_count": 263,
   "metadata": {},
   "outputs": [
    {
     "data": {
      "image/png": "[encoded data removed]",
      "text/plain": [
       "<Figure size 1080x720 with 1 Axes>"
      ]
     },
     "metadata": {},
     "output_type": "display_data"
    }
   ],
   "source": [
    "fig, ax = subplots(figsize=(15, 10))\n",
    "df['arrival_delay'].hist(bins=500, ax=ax, alpha=0.7, label='Sim.', normed=True)\n",
    "df_hist['arrival_delay'].hist(bins=500, ax=ax, alpha=0.7, label='Hist.', normed=True)\n",
    "ax.legend()\n",
    "ax.set_title('Calibration arrival delay')\n",
    "ax.set_xlim((0, 100))\n",
    "ax.set_yscale('log')"
   ]
  },
  {
   "cell_type": "code",
   "execution_count": 264,
   "metadata": {},
   "outputs": [
    {
     "data": {
      "text/plain": [
       "Text(0.5,1,'Calibration actual G2G time')"
      ]
     },
     "execution_count": 264,
     "metadata": {},
     "output_type": "execute_result"
    },
    {
     "data": {
      "image/png": "[encoded data removed]",
      "text/plain": [
       "<Figure size 1080x720 with 1 Axes>"
      ]
     },
     "metadata": {},
     "output_type": "display_data"
    }
   ],
   "source": [
    "fig, ax = subplots(figsize=(15, 10))\n",
    "df['actual_G2G_time'].hist(bins=100, ax=ax, alpha=0.7, label='Sim.', normed=True)\n",
    "df_hist['actual_G2G_time'].hist(bins=100, ax=ax, alpha=0.7, label='Hist.', normed=True)\n",
    "ax.legend()\n",
    "ax.set_title('Calibration actual G2G time')\n",
    "#ax.set_xlim((0, 100))\n",
    "#ax.set_yscale('log')"
   ]
  },
  {
   "cell_type": "code",
   "execution_count": 265,
   "metadata": {},
   "outputs": [
    {
     "data": {
      "text/plain": [
       "Text(0.5,1,'Calibration actual flying time')"
      ]
     },
     "execution_count": 265,
     "metadata": {},
     "output_type": "execute_result"
    },
    {
     "data": {
      "image/png": "[encoded data removed]",
      "text/plain": [
       "<Figure size 1080x720 with 1 Axes>"
      ]
     },
     "metadata": {},
     "output_type": "display_data"
    }
   ],
   "source": [
    "fig, ax = subplots(figsize=(15, 10))\n",
    "df['actual_flying_time'].hist(bins=100, ax=ax, alpha=0.7, label='Sim.', normed=True)\n",
    "df_hist['actual_flying_time'].hist(bins=100, ax=ax, alpha=0.7, label='Hist.', normed=True)\n",
    "ax.legend()\n",
    "ax.set_title('Calibration actual flying time')\n",
    "#ax.set_xlim((0, 100))\n",
    "#ax.set_yscale('log')"
   ]
  },
  {
   "cell_type": "code",
   "execution_count": 266,
   "metadata": {},
   "outputs": [
    {
     "data": {
      "text/plain": [
       "Text(0.5,1,'Calibration diff travelling time')"
      ]
     },
     "execution_count": 266,
     "metadata": {},
     "output_type": "execute_result"
    },
    {
     "data": {
      "image/png": "[encoded data removed]",
      "text/plain": [
       "<Figure size 1080x720 with 1 Axes>"
      ]
     },
     "metadata": {},
     "output_type": "display_data"
    }
   ],
   "source": [
    "fig, ax = subplots(figsize=(15, 10))\n",
    "df['travelling_time_diff'].hist(bins=100, ax=ax, alpha=0.7, label='Sim.', normed=True)\n",
    "df_hist['travelling_time_diff'].hist(bins=100, ax=ax, alpha=0.7, label='Hist.', normed=True)\n",
    "ax.legend()\n",
    "ax.set_title('Calibration diff travelling time')\n",
    "#ax.set_xlim((0, 100))\n",
    "#ax.set_yscale('log')"
   ]
  },
  {
   "cell_type": "code",
   "execution_count": 267,
   "metadata": {},
   "outputs": [
    {
     "data": {
      "text/plain": [
       "Text(0.5,1,'Calibration flying distance')"
      ]
     },
     "execution_count": 267,
     "metadata": {},
     "output_type": "execute_result"
    },
    {
     "data": {
      "image/png": "[encoded data removed]",
      "text/plain": [
       "<Figure size 1080x720 with 1 Axes>"
      ]
     },
     "metadata": {},
     "output_type": "display_data"
    }
   ],
   "source": [
    "fig, ax = subplots(figsize=(15, 10))\n",
    "df['scheduled_flying_distance'].hist(bins=200, ax=ax, alpha=0.7, label='Sim.', normed=True)\n",
    "(df_hist['scheduled_flying_distance']).hist(bins=200, ax=ax, alpha=0.7, label='Hist.', normed=True)\n",
    "ax.legend()\n",
    "ax.set_title('Calibration flying distance')\n",
    "#ax.set_xlim((0, 100))\n",
    "#ax.set_yscale('log')"
   ]
  },
  {
   "cell_type": "code",
   "execution_count": 260,
   "metadata": {},
   "outputs": [
    {
     "data": {
      "text/plain": [
       "Text(0.5,1,'Types of ATFM reasons')"
      ]
     },
     "execution_count": 260,
     "metadata": {},
     "output_type": "execute_result"
    },
    {
     "data": {
      "image/png": "[encoded data removed]",
      "text/plain": [
       "<Figure size 1080x720 with 1 Axes>"
      ]
     },
     "metadata": {},
     "output_type": "display_data"
    }
   ],
   "source": [
    "fig, ax = subplots(figsize=(15, 10))\n",
    "mask = df['atfm_reason']=='C_AP'\n",
    "df[mask]['atfm_delay'].hist(bins=20, ax=ax, alpha=0.7, label='C AP')\n",
    "mask = df['atfm_reason']=='W'\n",
    "df[mask]['atfm_delay'].hist(bins=20, ax=ax, alpha=0.7, label='W')\n",
    "mask = df['atfm_reason']=='NW'\n",
    "df[mask]['atfm_delay'].hist(bins=100, ax=ax, alpha=0.7, label='NW')\n",
    "ax.legend()\n",
    "ax.set_title('Types of ATFM reasons')\n",
    "#ax = df['flight_time_diff'].hist(bins=500, figsize=(10, 7), label='Hist.')\n",
    "#ax.set_xlim((0, 100))\n",
    "#ax.set_yscale('log')"
   ]
  },
  {
   "cell_type": "code",
   "execution_count": 261,
   "metadata": {},
   "outputs": [
    {
     "data": {
      "text/plain": [
       "<matplotlib.axes._subplots.AxesSubplot at 0x7fddd9d472e8>"
      ]
     },
     "execution_count": 261,
     "metadata": {},
     "output_type": "execute_result"
    },
    {
     "data": {
      "image/png": "[encoded data removed]",
      "text/plain": [
       "<Figure size 1080x720 with 1 Axes>"
      ]
     },
     "metadata": {},
     "output_type": "display_data"
    }
   ],
   "source": [
    "fig, ax = subplots(figsize=(15, 10))\n",
    "go.rename(columns={col:col.replace('_', ' ') for col in go.columns}).plot(x='scheduled flying distance hist', y='diff sch', kind='scatter', ax=ax, alpha=0.7)#, label='Sim.')\n",
    "# (df_hist['scheduled_flying_distance']).hist(bins=200, ax=ax, alpha=0.7, label='Hist.')\n",
    "# ax.legend()\n",
    "# ax.set_title('Calibration flying distance')"
   ]
  },
  {
   "cell_type": "code",
   "execution_count": 262,
   "metadata": {
    "scrolled": true
   },
   "outputs": [
    {
     "data": {
      "text/html": [
       "<div>\n",
       "<style scoped>\n",
       "    .dataframe tbody tr th:only-of-type {\n",
       "        vertical-align: middle;\n",
       "    }\n",
       "\n",
       "    .dataframe tbody tr th {\n",
       "        vertical-align: top;\n",
       "    }\n",
       "\n",
       "    .dataframe thead th {\n",
       "        text-align: right;\n",
       "    }\n",
       "</style>\n",
       "<table border=\"1\" class=\"dataframe\">\n",
       "  <thead>\n",
       "    <tr style=\"text-align: right;\">\n",
       "      <th></th>\n",
       "      <th>scheduled_flying_distance_hist</th>\n",
       "      <th>actual_flying_distance_hist</th>\n",
       "      <th>scheduled_flying_distance_sim</th>\n",
       "      <th>actual_flying_distance_sim</th>\n",
       "      <th>diff_sch</th>\n",
       "      <th>ratio</th>\n",
       "    </tr>\n",
       "  </thead>\n",
       "  <tbody>\n",
       "    <tr>\n",
       "      <th>AA34820700</th>\n",
       "      <td>182.505400</td>\n",
       "      <td>182.505400</td>\n",
       "      <td>266.20</td>\n",
       "      <td>257.17</td>\n",
       "      <td>83.694600</td>\n",
       "      <td>0.458587</td>\n",
       "    </tr>\n",
       "    <tr>\n",
       "      <th>AA34910295</th>\n",
       "      <td>887.688985</td>\n",
       "      <td>906.587473</td>\n",
       "      <td>1151.73</td>\n",
       "      <td>1134.64</td>\n",
       "      <td>264.041015</td>\n",
       "      <td>0.297448</td>\n",
       "    </tr>\n",
       "    <tr>\n",
       "      <th>AA34911296</th>\n",
       "      <td>31.317495</td>\n",
       "      <td>31.317495</td>\n",
       "      <td>21.06</td>\n",
       "      <td>21.06</td>\n",
       "      <td>-10.257495</td>\n",
       "      <td>-0.327532</td>\n",
       "    </tr>\n",
       "    <tr>\n",
       "      <th>AA34911437</th>\n",
       "      <td>31.317495</td>\n",
       "      <td>31.317495</td>\n",
       "      <td>21.06</td>\n",
       "      <td>21.06</td>\n",
       "      <td>-10.257495</td>\n",
       "      <td>-0.327532</td>\n",
       "    </tr>\n",
       "    <tr>\n",
       "      <th>AA34911613</th>\n",
       "      <td>136.609071</td>\n",
       "      <td>135.529158</td>\n",
       "      <td>169.01</td>\n",
       "      <td>169.01</td>\n",
       "      <td>32.400929</td>\n",
       "      <td>0.237180</td>\n",
       "    </tr>\n",
       "    <tr>\n",
       "      <th>AA34911810</th>\n",
       "      <td>86.393089</td>\n",
       "      <td>93.952484</td>\n",
       "      <td>133.37</td>\n",
       "      <td>133.37</td>\n",
       "      <td>46.976911</td>\n",
       "      <td>0.543758</td>\n",
       "    </tr>\n",
       "    <tr>\n",
       "      <th>AA34911871</th>\n",
       "      <td>49.136069</td>\n",
       "      <td>62.634989</td>\n",
       "      <td>116.09</td>\n",
       "      <td>116.09</td>\n",
       "      <td>66.953931</td>\n",
       "      <td>1.362623</td>\n",
       "    </tr>\n",
       "    <tr>\n",
       "      <th>AA34911922</th>\n",
       "      <td>49.136069</td>\n",
       "      <td>49.136069</td>\n",
       "      <td>116.09</td>\n",
       "      <td>116.09</td>\n",
       "      <td>66.953931</td>\n",
       "      <td>1.362623</td>\n",
       "    </tr>\n",
       "    <tr>\n",
       "      <th>AA34911977</th>\n",
       "      <td>926.025918</td>\n",
       "      <td>926.025918</td>\n",
       "      <td>1269.44</td>\n",
       "      <td>NaN</td>\n",
       "      <td>343.414082</td>\n",
       "      <td>0.370847</td>\n",
       "    </tr>\n",
       "    <tr>\n",
       "      <th>AA34912002</th>\n",
       "      <td>49.136069</td>\n",
       "      <td>49.136069</td>\n",
       "      <td>116.09</td>\n",
       "      <td>116.09</td>\n",
       "      <td>66.953931</td>\n",
       "      <td>1.362623</td>\n",
       "    </tr>\n",
       "    <tr>\n",
       "      <th>AA34912027</th>\n",
       "      <td>49.136069</td>\n",
       "      <td>49.136069</td>\n",
       "      <td>116.09</td>\n",
       "      <td>116.09</td>\n",
       "      <td>66.953931</td>\n",
       "      <td>1.362623</td>\n",
       "    </tr>\n",
       "    <tr>\n",
       "      <th>AA34912573</th>\n",
       "      <td>31.317495</td>\n",
       "      <td>31.317495</td>\n",
       "      <td>21.06</td>\n",
       "      <td>21.06</td>\n",
       "      <td>-10.257495</td>\n",
       "      <td>-0.327532</td>\n",
       "    </tr>\n",
       "    <tr>\n",
       "      <th>AA34913196</th>\n",
       "      <td>152.267819</td>\n",
       "      <td>127.429806</td>\n",
       "      <td>204.10</td>\n",
       "      <td>204.10</td>\n",
       "      <td>51.832181</td>\n",
       "      <td>0.340401</td>\n",
       "    </tr>\n",
       "    <tr>\n",
       "      <th>AA34913227</th>\n",
       "      <td>170.086393</td>\n",
       "      <td>163.066955</td>\n",
       "      <td>207.88</td>\n",
       "      <td>207.88</td>\n",
       "      <td>37.793607</td>\n",
       "      <td>0.222202</td>\n",
       "    </tr>\n",
       "    <tr>\n",
       "      <th>AA34913494</th>\n",
       "      <td>86.393089</td>\n",
       "      <td>92.872570</td>\n",
       "      <td>133.37</td>\n",
       "      <td>133.37</td>\n",
       "      <td>46.976911</td>\n",
       "      <td>0.543758</td>\n",
       "    </tr>\n",
       "    <tr>\n",
       "      <th>AA34913617</th>\n",
       "      <td>31.317495</td>\n",
       "      <td>31.317495</td>\n",
       "      <td>21.06</td>\n",
       "      <td>21.06</td>\n",
       "      <td>-10.257495</td>\n",
       "      <td>-0.327532</td>\n",
       "    </tr>\n",
       "    <tr>\n",
       "      <th>AA34913846</th>\n",
       "      <td>269.438445</td>\n",
       "      <td>252.699784</td>\n",
       "      <td>201.40</td>\n",
       "      <td>167.15</td>\n",
       "      <td>-68.038445</td>\n",
       "      <td>-0.252519</td>\n",
       "    </tr>\n",
       "    <tr>\n",
       "      <th>AA34913869</th>\n",
       "      <td>53.995680</td>\n",
       "      <td>53.995680</td>\n",
       "      <td>68.03</td>\n",
       "      <td>68.03</td>\n",
       "      <td>14.034320</td>\n",
       "      <td>0.259916</td>\n",
       "    </tr>\n",
       "    <tr>\n",
       "      <th>AA34914290</th>\n",
       "      <td>160.367171</td>\n",
       "      <td>157.127430</td>\n",
       "      <td>199.24</td>\n",
       "      <td>199.24</td>\n",
       "      <td>38.872829</td>\n",
       "      <td>0.242399</td>\n",
       "    </tr>\n",
       "    <tr>\n",
       "      <th>AA34915206</th>\n",
       "      <td>1164.686825</td>\n",
       "      <td>1070.194384</td>\n",
       "      <td>856.37</td>\n",
       "      <td>827.77</td>\n",
       "      <td>-308.316825</td>\n",
       "      <td>-0.264721</td>\n",
       "    </tr>\n",
       "    <tr>\n",
       "      <th>AA34915310</th>\n",
       "      <td>279.697624</td>\n",
       "      <td>266.198704</td>\n",
       "      <td>467.06</td>\n",
       "      <td>469.85</td>\n",
       "      <td>187.362376</td>\n",
       "      <td>0.669875</td>\n",
       "    </tr>\n",
       "    <tr>\n",
       "      <th>AA34915594</th>\n",
       "      <td>159.287257</td>\n",
       "      <td>159.287257</td>\n",
       "      <td>229.48</td>\n",
       "      <td>238.30</td>\n",
       "      <td>70.192743</td>\n",
       "      <td>0.440668</td>\n",
       "    </tr>\n",
       "    <tr>\n",
       "      <th>AA34916356</th>\n",
       "      <td>290.496760</td>\n",
       "      <td>254.859611</td>\n",
       "      <td>364.47</td>\n",
       "      <td>360.40</td>\n",
       "      <td>73.973240</td>\n",
       "      <td>0.254644</td>\n",
       "    </tr>\n",
       "    <tr>\n",
       "      <th>AA34916433</th>\n",
       "      <td>205.183585</td>\n",
       "      <td>246.760259</td>\n",
       "      <td>253.24</td>\n",
       "      <td>251.41</td>\n",
       "      <td>48.056415</td>\n",
       "      <td>0.234212</td>\n",
       "    </tr>\n",
       "    <tr>\n",
       "      <th>AA34916532</th>\n",
       "      <td>949.784017</td>\n",
       "      <td>907.127430</td>\n",
       "      <td>1151.73</td>\n",
       "      <td>1132.96</td>\n",
       "      <td>201.945983</td>\n",
       "      <td>0.212623</td>\n",
       "    </tr>\n",
       "    <tr>\n",
       "      <th>AA34916993</th>\n",
       "      <td>326.133909</td>\n",
       "      <td>326.133909</td>\n",
       "      <td>418.47</td>\n",
       "      <td>378.32</td>\n",
       "      <td>92.336091</td>\n",
       "      <td>0.283123</td>\n",
       "    </tr>\n",
       "    <tr>\n",
       "      <th>AA34917019</th>\n",
       "      <td>31.317495</td>\n",
       "      <td>31.317495</td>\n",
       "      <td>21.06</td>\n",
       "      <td>21.06</td>\n",
       "      <td>-10.257495</td>\n",
       "      <td>-0.327532</td>\n",
       "    </tr>\n",
       "    <tr>\n",
       "      <th>AA34917050</th>\n",
       "      <td>233.261339</td>\n",
       "      <td>157.127430</td>\n",
       "      <td>181.43</td>\n",
       "      <td>178.24</td>\n",
       "      <td>-51.831339</td>\n",
       "      <td>-0.222203</td>\n",
       "    </tr>\n",
       "    <tr>\n",
       "      <th>AA34917113</th>\n",
       "      <td>158.207343</td>\n",
       "      <td>158.747300</td>\n",
       "      <td>224.08</td>\n",
       "      <td>224.08</td>\n",
       "      <td>65.872657</td>\n",
       "      <td>0.416369</td>\n",
       "    </tr>\n",
       "    <tr>\n",
       "      <th>AA34917425</th>\n",
       "      <td>156.047516</td>\n",
       "      <td>150.107991</td>\n",
       "      <td>195.46</td>\n",
       "      <td>195.46</td>\n",
       "      <td>39.412484</td>\n",
       "      <td>0.252567</td>\n",
       "    </tr>\n",
       "    <tr>\n",
       "      <th>...</th>\n",
       "      <td>...</td>\n",
       "      <td>...</td>\n",
       "      <td>...</td>\n",
       "      <td>...</td>\n",
       "      <td>...</td>\n",
       "      <td>...</td>\n",
       "    </tr>\n",
       "    <tr>\n",
       "      <th>AA34948782</th>\n",
       "      <td>284.557235</td>\n",
       "      <td>280.237581</td>\n",
       "      <td>349.35</td>\n",
       "      <td>340.09</td>\n",
       "      <td>64.792765</td>\n",
       "      <td>0.227697</td>\n",
       "    </tr>\n",
       "    <tr>\n",
       "      <th>AA34948799</th>\n",
       "      <td>1026.457883</td>\n",
       "      <td>1026.457883</td>\n",
       "      <td>1243.52</td>\n",
       "      <td>1232.22</td>\n",
       "      <td>217.062117</td>\n",
       "      <td>0.211467</td>\n",
       "    </tr>\n",
       "    <tr>\n",
       "      <th>AA34949260</th>\n",
       "      <td>415.226782</td>\n",
       "      <td>409.287257</td>\n",
       "      <td>532.94</td>\n",
       "      <td>507.81</td>\n",
       "      <td>117.713218</td>\n",
       "      <td>0.283491</td>\n",
       "    </tr>\n",
       "    <tr>\n",
       "      <th>AA34949540</th>\n",
       "      <td>284.557235</td>\n",
       "      <td>285.637149</td>\n",
       "      <td>349.35</td>\n",
       "      <td>348.41</td>\n",
       "      <td>64.792765</td>\n",
       "      <td>0.227697</td>\n",
       "    </tr>\n",
       "    <tr>\n",
       "      <th>AA34949622</th>\n",
       "      <td>191.144708</td>\n",
       "      <td>165.766739</td>\n",
       "      <td>151.19</td>\n",
       "      <td>151.19</td>\n",
       "      <td>-39.954708</td>\n",
       "      <td>-0.209029</td>\n",
       "    </tr>\n",
       "    <tr>\n",
       "      <th>AA34949730</th>\n",
       "      <td>79.913607</td>\n",
       "      <td>99.892009</td>\n",
       "      <td>96.65</td>\n",
       "      <td>96.65</td>\n",
       "      <td>16.736393</td>\n",
       "      <td>0.209431</td>\n",
       "    </tr>\n",
       "    <tr>\n",
       "      <th>AA34949823</th>\n",
       "      <td>125.809935</td>\n",
       "      <td>106.371490</td>\n",
       "      <td>178.73</td>\n",
       "      <td>178.73</td>\n",
       "      <td>52.920065</td>\n",
       "      <td>0.420635</td>\n",
       "    </tr>\n",
       "    <tr>\n",
       "      <th>AA34950023</th>\n",
       "      <td>232.181425</td>\n",
       "      <td>206.803456</td>\n",
       "      <td>280.78</td>\n",
       "      <td>289.32</td>\n",
       "      <td>48.598575</td>\n",
       "      <td>0.209313</td>\n",
       "    </tr>\n",
       "    <tr>\n",
       "      <th>AA34950048</th>\n",
       "      <td>110.151188</td>\n",
       "      <td>110.151188</td>\n",
       "      <td>143.63</td>\n",
       "      <td>143.63</td>\n",
       "      <td>33.478812</td>\n",
       "      <td>0.303935</td>\n",
       "    </tr>\n",
       "    <tr>\n",
       "      <th>AA34950148</th>\n",
       "      <td>1272.678186</td>\n",
       "      <td>1244.060475</td>\n",
       "      <td>1535.10</td>\n",
       "      <td>1546.26</td>\n",
       "      <td>262.421814</td>\n",
       "      <td>0.206197</td>\n",
       "    </tr>\n",
       "    <tr>\n",
       "      <th>AA34950869</th>\n",
       "      <td>1026.457883</td>\n",
       "      <td>1016.738661</td>\n",
       "      <td>1243.52</td>\n",
       "      <td>1233.00</td>\n",
       "      <td>217.062117</td>\n",
       "      <td>0.211467</td>\n",
       "    </tr>\n",
       "    <tr>\n",
       "      <th>AA34951029</th>\n",
       "      <td>132.289417</td>\n",
       "      <td>132.289417</td>\n",
       "      <td>185.21</td>\n",
       "      <td>185.21</td>\n",
       "      <td>52.920583</td>\n",
       "      <td>0.400036</td>\n",
       "    </tr>\n",
       "    <tr>\n",
       "      <th>AA34951063</th>\n",
       "      <td>421.706263</td>\n",
       "      <td>406.047516</td>\n",
       "      <td>532.94</td>\n",
       "      <td>543.81</td>\n",
       "      <td>111.233737</td>\n",
       "      <td>0.263771</td>\n",
       "    </tr>\n",
       "    <tr>\n",
       "      <th>AA34951319</th>\n",
       "      <td>187.365011</td>\n",
       "      <td>187.365011</td>\n",
       "      <td>246.22</td>\n",
       "      <td>243.39</td>\n",
       "      <td>58.854989</td>\n",
       "      <td>0.314119</td>\n",
       "    </tr>\n",
       "    <tr>\n",
       "      <th>AA34951323</th>\n",
       "      <td>192.224622</td>\n",
       "      <td>192.224622</td>\n",
       "      <td>246.22</td>\n",
       "      <td>225.98</td>\n",
       "      <td>53.995378</td>\n",
       "      <td>0.280897</td>\n",
       "    </tr>\n",
       "    <tr>\n",
       "      <th>AA34951595</th>\n",
       "      <td>184.665227</td>\n",
       "      <td>184.665227</td>\n",
       "      <td>222.46</td>\n",
       "      <td>212.23</td>\n",
       "      <td>37.794773</td>\n",
       "      <td>0.204666</td>\n",
       "    </tr>\n",
       "    <tr>\n",
       "      <th>AA34951776</th>\n",
       "      <td>349.892009</td>\n",
       "      <td>357.991361</td>\n",
       "      <td>550.22</td>\n",
       "      <td>537.29</td>\n",
       "      <td>200.327991</td>\n",
       "      <td>0.572542</td>\n",
       "    </tr>\n",
       "    <tr>\n",
       "      <th>AA34951876</th>\n",
       "      <td>346.652268</td>\n",
       "      <td>350.431965</td>\n",
       "      <td>416.31</td>\n",
       "      <td>383.11</td>\n",
       "      <td>69.657732</td>\n",
       "      <td>0.200944</td>\n",
       "    </tr>\n",
       "    <tr>\n",
       "      <th>AA34952052</th>\n",
       "      <td>226.781857</td>\n",
       "      <td>226.781857</td>\n",
       "      <td>312.10</td>\n",
       "      <td>267.60</td>\n",
       "      <td>85.318143</td>\n",
       "      <td>0.376212</td>\n",
       "    </tr>\n",
       "    <tr>\n",
       "      <th>AA34952106</th>\n",
       "      <td>296.976242</td>\n",
       "      <td>288.336933</td>\n",
       "      <td>412.53</td>\n",
       "      <td>401.09</td>\n",
       "      <td>115.553758</td>\n",
       "      <td>0.389101</td>\n",
       "    </tr>\n",
       "    <tr>\n",
       "      <th>AA34952182</th>\n",
       "      <td>154.967603</td>\n",
       "      <td>151.187905</td>\n",
       "      <td>192.22</td>\n",
       "      <td>192.22</td>\n",
       "      <td>37.252397</td>\n",
       "      <td>0.240388</td>\n",
       "    </tr>\n",
       "    <tr>\n",
       "      <th>AA34952352</th>\n",
       "      <td>200.863931</td>\n",
       "      <td>199.784017</td>\n",
       "      <td>247.30</td>\n",
       "      <td>247.30</td>\n",
       "      <td>46.436069</td>\n",
       "      <td>0.231182</td>\n",
       "    </tr>\n",
       "    <tr>\n",
       "      <th>AA34952401</th>\n",
       "      <td>129.049676</td>\n",
       "      <td>116.630670</td>\n",
       "      <td>179.81</td>\n",
       "      <td>174.09</td>\n",
       "      <td>50.760324</td>\n",
       "      <td>0.393339</td>\n",
       "    </tr>\n",
       "    <tr>\n",
       "      <th>AA34952591</th>\n",
       "      <td>187.365011</td>\n",
       "      <td>187.365011</td>\n",
       "      <td>246.22</td>\n",
       "      <td>202.39</td>\n",
       "      <td>58.854989</td>\n",
       "      <td>0.314119</td>\n",
       "    </tr>\n",
       "    <tr>\n",
       "      <th>AA34953149</th>\n",
       "      <td>296.976242</td>\n",
       "      <td>296.976242</td>\n",
       "      <td>412.53</td>\n",
       "      <td>376.27</td>\n",
       "      <td>115.553758</td>\n",
       "      <td>0.389101</td>\n",
       "    </tr>\n",
       "    <tr>\n",
       "      <th>AA34954004</th>\n",
       "      <td>962.742981</td>\n",
       "      <td>958.963283</td>\n",
       "      <td>1252.70</td>\n",
       "      <td>1234.10</td>\n",
       "      <td>289.957019</td>\n",
       "      <td>0.301178</td>\n",
       "    </tr>\n",
       "    <tr>\n",
       "      <th>AA34955180</th>\n",
       "      <td>254.319654</td>\n",
       "      <td>254.319654</td>\n",
       "      <td>306.16</td>\n",
       "      <td>292.40</td>\n",
       "      <td>51.840346</td>\n",
       "      <td>0.203839</td>\n",
       "    </tr>\n",
       "    <tr>\n",
       "      <th>AA34955636</th>\n",
       "      <td>296.976242</td>\n",
       "      <td>276.997840</td>\n",
       "      <td>412.53</td>\n",
       "      <td>394.95</td>\n",
       "      <td>115.553758</td>\n",
       "      <td>0.389101</td>\n",
       "    </tr>\n",
       "    <tr>\n",
       "      <th>AA34956792</th>\n",
       "      <td>156.587473</td>\n",
       "      <td>151.187905</td>\n",
       "      <td>208.42</td>\n",
       "      <td>208.42</td>\n",
       "      <td>51.832527</td>\n",
       "      <td>0.331013</td>\n",
       "    </tr>\n",
       "    <tr>\n",
       "      <th>AA34958697</th>\n",
       "      <td>201.943844</td>\n",
       "      <td>198.704104</td>\n",
       "      <td>245.14</td>\n",
       "      <td>223.45</td>\n",
       "      <td>43.196156</td>\n",
       "      <td>0.213902</td>\n",
       "    </tr>\n",
       "  </tbody>\n",
       "</table>\n",
       "<p>392 rows × 6 columns</p>\n",
       "</div>"
      ],
      "text/plain": [
       "            scheduled_flying_distance_hist  actual_flying_distance_hist  \\\n",
       "AA34820700                      182.505400                   182.505400   \n",
       "AA34910295                      887.688985                   906.587473   \n",
       "AA34911296                       31.317495                    31.317495   \n",
       "AA34911437                       31.317495                    31.317495   \n",
       "AA34911613                      136.609071                   135.529158   \n",
       "AA34911810                       86.393089                    93.952484   \n",
       "AA34911871                       49.136069                    62.634989   \n",
       "AA34911922                       49.136069                    49.136069   \n",
       "AA34911977                      926.025918                   926.025918   \n",
       "AA34912002                       49.136069                    49.136069   \n",
       "AA34912027                       49.136069                    49.136069   \n",
       "AA34912573                       31.317495                    31.317495   \n",
       "AA34913196                      152.267819                   127.429806   \n",
       "AA34913227                      170.086393                   163.066955   \n",
       "AA34913494                       86.393089                    92.872570   \n",
       "AA34913617                       31.317495                    31.317495   \n",
       "AA34913846                      269.438445                   252.699784   \n",
       "AA34913869                       53.995680                    53.995680   \n",
       "AA34914290                      160.367171                   157.127430   \n",
       "AA34915206                     1164.686825                  1070.194384   \n",
       "AA34915310                      279.697624                   266.198704   \n",
       "AA34915594                      159.287257                   159.287257   \n",
       "AA34916356                      290.496760                   254.859611   \n",
       "AA34916433                      205.183585                   246.760259   \n",
       "AA34916532                      949.784017                   907.127430   \n",
       "AA34916993                      326.133909                   326.133909   \n",
       "AA34917019                       31.317495                    31.317495   \n",
       "AA34917050                      233.261339                   157.127430   \n",
       "AA34917113                      158.207343                   158.747300   \n",
       "AA34917425                      156.047516                   150.107991   \n",
       "...                                    ...                          ...   \n",
       "AA34948782                      284.557235                   280.237581   \n",
       "AA34948799                     1026.457883                  1026.457883   \n",
       "AA34949260                      415.226782                   409.287257   \n",
       "AA34949540                      284.557235                   285.637149   \n",
       "AA34949622                      191.144708                   165.766739   \n",
       "AA34949730                       79.913607                    99.892009   \n",
       "AA34949823                      125.809935                   106.371490   \n",
       "AA34950023                      232.181425                   206.803456   \n",
       "AA34950048                      110.151188                   110.151188   \n",
       "AA34950148                     1272.678186                  1244.060475   \n",
       "AA34950869                     1026.457883                  1016.738661   \n",
       "AA34951029                      132.289417                   132.289417   \n",
       "AA34951063                      421.706263                   406.047516   \n",
       "AA34951319                      187.365011                   187.365011   \n",
       "AA34951323                      192.224622                   192.224622   \n",
       "AA34951595                      184.665227                   184.665227   \n",
       "AA34951776                      349.892009                   357.991361   \n",
       "AA34951876                      346.652268                   350.431965   \n",
       "AA34952052                      226.781857                   226.781857   \n",
       "AA34952106                      296.976242                   288.336933   \n",
       "AA34952182                      154.967603                   151.187905   \n",
       "AA34952352                      200.863931                   199.784017   \n",
       "AA34952401                      129.049676                   116.630670   \n",
       "AA34952591                      187.365011                   187.365011   \n",
       "AA34953149                      296.976242                   296.976242   \n",
       "AA34954004                      962.742981                   958.963283   \n",
       "AA34955180                      254.319654                   254.319654   \n",
       "AA34955636                      296.976242                   276.997840   \n",
       "AA34956792                      156.587473                   151.187905   \n",
       "AA34958697                      201.943844                   198.704104   \n",
       "\n",
       "            scheduled_flying_distance_sim  actual_flying_distance_sim  \\\n",
       "AA34820700                         266.20                      257.17   \n",
       "AA34910295                        1151.73                     1134.64   \n",
       "AA34911296                          21.06                       21.06   \n",
       "AA34911437                          21.06                       21.06   \n",
       "AA34911613                         169.01                      169.01   \n",
       "AA34911810                         133.37                      133.37   \n",
       "AA34911871                         116.09                      116.09   \n",
       "AA34911922                         116.09                      116.09   \n",
       "AA34911977                        1269.44                         NaN   \n",
       "AA34912002                         116.09                      116.09   \n",
       "AA34912027                         116.09                      116.09   \n",
       "AA34912573                          21.06                       21.06   \n",
       "AA34913196                         204.10                      204.10   \n",
       "AA34913227                         207.88                      207.88   \n",
       "AA34913494                         133.37                      133.37   \n",
       "AA34913617                          21.06                       21.06   \n",
       "AA34913846                         201.40                      167.15   \n",
       "AA34913869                          68.03                       68.03   \n",
       "AA34914290                         199.24                      199.24   \n",
       "AA34915206                         856.37                      827.77   \n",
       "AA34915310                         467.06                      469.85   \n",
       "AA34915594                         229.48                      238.30   \n",
       "AA34916356                         364.47                      360.40   \n",
       "AA34916433                         253.24                      251.41   \n",
       "AA34916532                        1151.73                     1132.96   \n",
       "AA34916993                         418.47                      378.32   \n",
       "AA34917019                          21.06                       21.06   \n",
       "AA34917050                         181.43                      178.24   \n",
       "AA34917113                         224.08                      224.08   \n",
       "AA34917425                         195.46                      195.46   \n",
       "...                                   ...                         ...   \n",
       "AA34948782                         349.35                      340.09   \n",
       "AA34948799                        1243.52                     1232.22   \n",
       "AA34949260                         532.94                      507.81   \n",
       "AA34949540                         349.35                      348.41   \n",
       "AA34949622                         151.19                      151.19   \n",
       "AA34949730                          96.65                       96.65   \n",
       "AA34949823                         178.73                      178.73   \n",
       "AA34950023                         280.78                      289.32   \n",
       "AA34950048                         143.63                      143.63   \n",
       "AA34950148                        1535.10                     1546.26   \n",
       "AA34950869                        1243.52                     1233.00   \n",
       "AA34951029                         185.21                      185.21   \n",
       "AA34951063                         532.94                      543.81   \n",
       "AA34951319                         246.22                      243.39   \n",
       "AA34951323                         246.22                      225.98   \n",
       "AA34951595                         222.46                      212.23   \n",
       "AA34951776                         550.22                      537.29   \n",
       "AA34951876                         416.31                      383.11   \n",
       "AA34952052                         312.10                      267.60   \n",
       "AA34952106                         412.53                      401.09   \n",
       "AA34952182                         192.22                      192.22   \n",
       "AA34952352                         247.30                      247.30   \n",
       "AA34952401                         179.81                      174.09   \n",
       "AA34952591                         246.22                      202.39   \n",
       "AA34953149                         412.53                      376.27   \n",
       "AA34954004                        1252.70                     1234.10   \n",
       "AA34955180                         306.16                      292.40   \n",
       "AA34955636                         412.53                      394.95   \n",
       "AA34956792                         208.42                      208.42   \n",
       "AA34958697                         245.14                      223.45   \n",
       "\n",
       "              diff_sch     ratio  \n",
       "AA34820700   83.694600  0.458587  \n",
       "AA34910295  264.041015  0.297448  \n",
       "AA34911296  -10.257495 -0.327532  \n",
       "AA34911437  -10.257495 -0.327532  \n",
       "AA34911613   32.400929  0.237180  \n",
       "AA34911810   46.976911  0.543758  \n",
       "AA34911871   66.953931  1.362623  \n",
       "AA34911922   66.953931  1.362623  \n",
       "AA34911977  343.414082  0.370847  \n",
       "AA34912002   66.953931  1.362623  \n",
       "AA34912027   66.953931  1.362623  \n",
       "AA34912573  -10.257495 -0.327532  \n",
       "AA34913196   51.832181  0.340401  \n",
       "AA34913227   37.793607  0.222202  \n",
       "AA34913494   46.976911  0.543758  \n",
       "AA34913617  -10.257495 -0.327532  \n",
       "AA34913846  -68.038445 -0.252519  \n",
       "AA34913869   14.034320  0.259916  \n",
       "AA34914290   38.872829  0.242399  \n",
       "AA34915206 -308.316825 -0.264721  \n",
       "AA34915310  187.362376  0.669875  \n",
       "AA34915594   70.192743  0.440668  \n",
       "AA34916356   73.973240  0.254644  \n",
       "AA34916433   48.056415  0.234212  \n",
       "AA34916532  201.945983  0.212623  \n",
       "AA34916993   92.336091  0.283123  \n",
       "AA34917019  -10.257495 -0.327532  \n",
       "AA34917050  -51.831339 -0.222203  \n",
       "AA34917113   65.872657  0.416369  \n",
       "AA34917425   39.412484  0.252567  \n",
       "...                ...       ...  \n",
       "AA34948782   64.792765  0.227697  \n",
       "AA34948799  217.062117  0.211467  \n",
       "AA34949260  117.713218  0.283491  \n",
       "AA34949540   64.792765  0.227697  \n",
       "AA34949622  -39.954708 -0.209029  \n",
       "AA34949730   16.736393  0.209431  \n",
       "AA34949823   52.920065  0.420635  \n",
       "AA34950023   48.598575  0.209313  \n",
       "AA34950048   33.478812  0.303935  \n",
       "AA34950148  262.421814  0.206197  \n",
       "AA34950869  217.062117  0.211467  \n",
       "AA34951029   52.920583  0.400036  \n",
       "AA34951063  111.233737  0.263771  \n",
       "AA34951319   58.854989  0.314119  \n",
       "AA34951323   53.995378  0.280897  \n",
       "AA34951595   37.794773  0.204666  \n",
       "AA34951776  200.327991  0.572542  \n",
       "AA34951876   69.657732  0.200944  \n",
       "AA34952052   85.318143  0.376212  \n",
       "AA34952106  115.553758  0.389101  \n",
       "AA34952182   37.252397  0.240388  \n",
       "AA34952352   46.436069  0.231182  \n",
       "AA34952401   50.760324  0.393339  \n",
       "AA34952591   58.854989  0.314119  \n",
       "AA34953149  115.553758  0.389101  \n",
       "AA34954004  289.957019  0.301178  \n",
       "AA34955180   51.840346  0.203839  \n",
       "AA34955636  115.553758  0.389101  \n",
       "AA34956792   51.832527  0.331013  \n",
       "AA34958697   43.196156  0.213902  \n",
       "\n",
       "[392 rows x 6 columns]"
      ]
     },
     "execution_count": 262,
     "metadata": {},
     "output_type": "execute_result"
    }
   ],
   "source": [
    "pouet = go[abs(go['diff_sch']/go['scheduled_flying_distance_hist'])>0.2]\n",
    "pouet['ratio'] = pouet['diff_sch']/pouet['scheduled_flying_distance_hist']\n",
    "pouet"
   ]
  },
  {
   "cell_type": "code",
   "execution_count": 192,
   "metadata": {},
   "outputs": [],
   "source": [
    "pouet.to_csv('diff_distance.csv')"
   ]
  },
  {
   "cell_type": "code",
   "execution_count": null,
   "metadata": {},
   "outputs": [],
   "source": []
  }
 ],
 "metadata": {
  "kernelspec": {
   "display_name": "Python 3",
   "language": "python",
   "name": "python3"
  },
  "language_info": {
   "codemirror_mode": {
    "name": "ipython",
    "version": 3
   },
   "file_extension": ".py",
   "mimetype": "text/x-python",
   "name": "python",
   "nbconvert_exporter": "python",
   "pygments_lexer": "ipython3",
   "version": "3.5.2"
  }
 },
 "nbformat": 4,
 "nbformat_minor": 2
}

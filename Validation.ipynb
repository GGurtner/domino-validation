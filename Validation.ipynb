{
 "cells": [
  {
   "cell_type": "code",
   "execution_count": 1,
   "metadata": {},
   "outputs": [
    {
     "name": "stdout",
     "output_type": "stream",
     "text": [
      "Populating the interactive namespace from numpy and matplotlib\n"
     ]
    }
   ],
   "source": [
    "%pylab inline"
   ]
  },
  {
   "cell_type": "code",
   "execution_count": 2,
   "metadata": {},
   "outputs": [],
   "source": [
    "import sys\n",
    "sys.path.insert(1, '../domino/libs')\n",
    "sys.path.insert(1, '../domino')\n",
    "sys.path.insert(1, '/home/earendil/Documents/MyLib')\n",
    "\n",
    "style.use('/home/earendil/Documents/MyLib/big_plt_style.mplstyle')\n",
    "\n",
    "import pandas as pd\n",
    "\n",
    "from libs.utilities import domino_mysql_server, read_mysql"
   ]
  },
  {
   "cell_type": "markdown",
   "metadata": {},
   "source": [
    "# Pulling data"
   ]
  },
  {
   "cell_type": "code",
   "execution_count": 193,
   "metadata": {},
   "outputs": [],
   "source": [
    "model_version = '1.13'\n",
    "scenario_id = -20\n",
    "\n",
    "n_iter = 20\n",
    "n_iters = [20]#[0, 1, 2, 3, 4, 5]"
   ]
  },
  {
   "cell_type": "markdown",
   "metadata": {},
   "source": [
    "## Single iteration, historical data, and multiple iterations"
   ]
  },
  {
   "cell_type": "code",
   "execution_count": 159,
   "metadata": {},
   "outputs": [
    {
     "name": "stdout",
     "output_type": "stream",
     "text": [
      "DB connection to 127.0.0.1 with ssh tunneling through archdb.fst.westminster.ac.uk\n"
     ]
    }
   ],
   "source": [
    "with domino_mysql_server(profile='remote_direct') as connection:\n",
    "#     # Get model output\n",
    "#     query = \"SELECT * FROM output_flights where model_version='\" + model_version +\\\n",
    "#             \"' AND scenario_id=\" + str(scenario_id) + \" AND n_iter=\" + str(n_iter)\n",
    "#     df = read_mysql(query=query, engine=connection['engine'])\n",
    "\n",
    "    query = \"\"\"SELECT\n",
    "            ddr.ifps_id,\n",
    "            f.callsign as flight_number,\n",
    "            f.registration as tail_number,\n",
    "            f.origin as origin_airport,\n",
    "            f.destination as destination_airport,\n",
    "            origin.mean_taxi_out,\n",
    "            origin.std_taxi_out,\n",
    "            destination.mean_taxi_in,\n",
    "            destination.std_taxi_in,\n",
    "            f.sobt,\n",
    "            ddr.aobt,\n",
    "            ddr.take_off_time,\n",
    "            ddr.take_off_time_sch,\n",
    "            f.sibt,\n",
    "            ddr.landing_time,\n",
    "            ddr.landing_time_sch,\n",
    "            CASE ddr.landing_time\n",
    "                WHEN NULL THEN NULL\n",
    "                ELSE ddr.landing_time + INTERVAL mean_taxi_in MINUTE\n",
    "            END AS aibt,\n",
    "            ddr.cancelled,\n",
    "            ddr.distance,\n",
    "            ddr.distance_sch\n",
    "            FROM domino_environment.flight_schedule AS f\n",
    "            JOIN domino_environment.ddr_for_analyses AS ddr ON ddr.ifps_id=f.ifps_id\n",
    "            JOIN (\n",
    "                SELECT a_s_o.icao_id, \n",
    "                        IF(t_o.mean_txo is not NULL, t_o.mean_txo, a_s_o.mean_taxi_out) as mean_taxi_out,\n",
    "                        IF(t_o.std_deviation is not NULL, t_o.std_deviation, a_s_o.std_taxi_out) as std_taxi_out\n",
    "                FROM domino_environment.airport_info_static AS a_s_o\n",
    "                LEFT JOIN domino_environment.taxi_out_static AS t_o ON t_o.icao_id=a_s_o.icao_id\n",
    "                ) as origin ON origin.icao_id = f.origin\n",
    "            JOIN (SELECT a_s_d.icao_id,\n",
    "                        IF(t_i.mean_txi is not NULL, t_i.mean_txi, a_s_d.mean_taxi_in) as mean_taxi_in,\n",
    "                        IF(t_i.std_deviation is not NULL, t_i.std_deviation, a_s_d.std_taxi_in) as std_taxi_in\n",
    "                FROM domino_environment.airport_info_static AS a_s_d\n",
    "                LEFT JOIN domino_environment.taxi_in_static AS t_i ON t_i.icao_id=a_s_d.icao_id\n",
    "                ) as destination ON destination.icao_id = f.destination\"\"\"\n",
    "    df_hist = read_mysql(query=query, engine=connection['engine'])"
   ]
  },
  {
   "cell_type": "code",
   "execution_count": 160,
   "metadata": {},
   "outputs": [
    {
     "data": {
      "text/plain": [
       "27261"
      ]
     },
     "execution_count": 160,
     "metadata": {},
     "output_type": "execute_result"
    }
   ],
   "source": [
    "len(df_hist)"
   ]
  },
  {
   "cell_type": "code",
   "execution_count": 194,
   "metadata": {},
   "outputs": [
    {
     "name": "stdout",
     "output_type": "stream",
     "text": [
      "DB connection to 127.0.0.1 with ssh tunneling through archdb.fst.westminster.ac.uk\n",
      "SELECT * FROM output_flights where model_version='1.13' AND scenario_id=-20 AND (n_iter=20)\n"
     ]
    }
   ],
   "source": [
    "with domino_mysql_server(profile='remote_direct') as connection:\n",
    "    query = \"SELECT * FROM output_flights where model_version='\" + model_version +\\\n",
    "            \"' AND scenario_id=\" + str(scenario_id) + \" AND (\"\n",
    "\n",
    "    for n in n_iters:\n",
    "        query += 'n_iter=' + str(n) + ' OR '\n",
    "\n",
    "    query = query[:-4] + ')'\n",
    "\n",
    "    df = read_mysql(query=query, engine=connection['engine'])\n",
    "    print (query)"
   ]
  },
  {
   "cell_type": "code",
   "execution_count": 195,
   "metadata": {},
   "outputs": [
    {
     "name": "stdout",
     "output_type": "stream",
     "text": [
      "DB connection to 127.0.0.1 with ssh tunneling through archdb.fst.westminster.ac.uk\n"
     ]
    },
    {
     "data": {
      "text/html": [
       "<div>\n",
       "<style scoped>\n",
       "    .dataframe tbody tr th:only-of-type {\n",
       "        vertical-align: middle;\n",
       "    }\n",
       "\n",
       "    .dataframe tbody tr th {\n",
       "        vertical-align: top;\n",
       "    }\n",
       "\n",
       "    .dataframe thead th {\n",
       "        text-align: right;\n",
       "    }\n",
       "</style>\n",
       "<table border=\"1\" class=\"dataframe\">\n",
       "  <thead>\n",
       "    <tr style=\"text-align: right;\">\n",
       "      <th></th>\n",
       "      <th>id</th>\n",
       "      <th>ifps_id</th>\n",
       "    </tr>\n",
       "  </thead>\n",
       "  <tbody>\n",
       "    <tr>\n",
       "      <th>0</th>\n",
       "      <td>66912</td>\n",
       "      <td>AA34820675</td>\n",
       "    </tr>\n",
       "    <tr>\n",
       "      <th>1</th>\n",
       "      <td>67332</td>\n",
       "      <td>AA34820700</td>\n",
       "    </tr>\n",
       "    <tr>\n",
       "      <th>2</th>\n",
       "      <td>60425</td>\n",
       "      <td>AA34850875</td>\n",
       "    </tr>\n",
       "    <tr>\n",
       "      <th>3</th>\n",
       "      <td>34547</td>\n",
       "      <td>AA34859875</td>\n",
       "    </tr>\n",
       "    <tr>\n",
       "      <th>4</th>\n",
       "      <td>34696</td>\n",
       "      <td>AA34860589</td>\n",
       "    </tr>\n",
       "  </tbody>\n",
       "</table>\n",
       "</div>"
      ],
      "text/plain": [
       "      id     ifps_id\n",
       "0  66912  AA34820675\n",
       "1  67332  AA34820700\n",
       "2  60425  AA34850875\n",
       "3  34547  AA34859875\n",
       "4  34696  AA34860589"
      ]
     },
     "execution_count": 195,
     "metadata": {},
     "output_type": "execute_result"
    }
   ],
   "source": [
    "# Get the flight schedules to have the relationships between id and ifps_id\n",
    "with domino_mysql_server(profile='remote_direct') as connection:\n",
    "    query = \"SELECT of.id, fs.ifps_id FROM output_flights of JOIN flight_schedule as fs ON fs.nid=of.id WHERE model_version='\"\\\n",
    "    + model_version + \"' AND scenario_id=\" + str(scenario_id) + \" AND n_iter=\" + str(n_iter)\n",
    "\n",
    "    df_sch = read_mysql(query=query, engine=connection['engine'])\n",
    "    df_sch.rename(columns={'nid':'id'}, inplace=True)\n",
    "    \n",
    "df_sch.head()"
   ]
  },
  {
   "cell_type": "markdown",
   "metadata": {},
   "source": [
    "## Derived metrics"
   ]
  },
  {
   "cell_type": "code",
   "execution_count": 196,
   "metadata": {},
   "outputs": [],
   "source": [
    "#df_hist['sibt']"
   ]
  },
  {
   "cell_type": "code",
   "execution_count": 197,
   "metadata": {},
   "outputs": [],
   "source": [
    "df['departure_delay'] = (df['aobt']-df['sobt']).dt.total_seconds()/60.\n",
    "df['arrival_delay'] = (df['aibt']-df['sibt']).dt.total_seconds()/60.\n",
    "df['scheduled_G2G_time'] = (df['sibt']-df['sobt']).dt.total_seconds()/60.\n",
    "df['actual_G2G_time'] = (df['aibt']-df['aobt']).dt.total_seconds()/60.\n",
    "df['travelling_time_diff'] = ((df['aibt']-df['aobt']) - (df['sibt']-df['sobt'])).dt.total_seconds()/60.\n",
    "df['scheduled_flying_time'] = df['m1_fp_time_min']\n",
    "df['actual_flying_time'] = df['m3_fp_time_min']\n",
    "df['scheduled_flying_distance'] = df['m1_climb_dist_nm'] + df['m1_cruise_dist_nm'] + df['m1_descent_dist_nm']\n",
    "df['actual_flying_distance'] = df['m3_climb_dist_nm'] + df['m3_cruise_dist_nm'] + df['m3_descent_dist_nm']\n",
    "\n",
    "df_hist['departure_delay'] = (df_hist['aobt']-df_hist['sobt']).dt.total_seconds()/60.\n",
    "df_hist['arrival_delay'] = (df_hist['aibt']-df_hist['sibt']).dt.total_seconds()/60.\n",
    "df_hist['scheduled_G2G_time'] = (df_hist['sibt']-df_hist['sobt']).dt.total_seconds()/60.\n",
    "df_hist['actual_G2G_time'] = (df_hist['aibt']-df_hist['aobt']).dt.total_seconds()/60.\n",
    "df_hist['travelling_time_diff'] = ((df_hist['aibt']-df_hist['aobt']) - (df_hist['sibt']-df_hist['sobt'])).dt.total_seconds()/60.\n",
    "df_hist['scheduled_flying_time'] = (df_hist['landing_time_sch'] - df_hist['take_off_time_sch']).dt.total_seconds()/60.\n",
    "df_hist['actual_flying_time'] = (df_hist['landing_time'] - df_hist['take_off_time']).dt.total_seconds()/60.\n",
    "df_hist['taxi_out_traj'] = (df_hist['take_off_time'] - df_hist['aobt']).dt.total_seconds()/60.\n",
    "df_hist['taxi_out'] = df_hist['mean_taxi_out']\n",
    "df_hist['taxi_in'] = df_hist['mean_taxi_in']\n",
    "#df_hist['taxi_in_traj'] = (df_hist['aibt'] - df_hist['landing_time']).dt.total_seconds()/60.\n",
    "df_hist['scheduled_flying_distance'] = df_hist['distance_sch']/1.852\n",
    "df_hist['actual_flying_distance'] = df_hist['distance']/1.852\n",
    "#df_hist['arrival_delay'] = (df_hist['aibt']-df_hist['sibt']).dt.total_seconds()/60."
   ]
  },
  {
   "cell_type": "code",
   "execution_count": 198,
   "metadata": {},
   "outputs": [],
   "source": [
    "# For single iteration stuff\n",
    "df2 = df[df['n_iter']==n_iter]\n",
    "yo = df2.set_index('id').sort_index()\n",
    "yoyo = df_sch.set_index('id')\n",
    "yoyo.sort_index(inplace=True)\n",
    "df2 = pd.concat([yo, yoyo],\n",
    "               axis=1)\n",
    "#df2.join(df_sch, on='id', lsuffix='_out', rsuffix='_sch', how='inner')\n",
    "#df2.head()"
   ]
  },
  {
   "cell_type": "code",
   "execution_count": 199,
   "metadata": {},
   "outputs": [],
   "source": [
    "df_hist['ifps_id'] = df_hist['ifps_id'].astype(str)\n",
    "df2['ifps_id'] = df2['ifps_id'].astype(str)"
   ]
  },
  {
   "cell_type": "code",
   "execution_count": 200,
   "metadata": {},
   "outputs": [
    {
     "data": {
      "text/html": [
       "<div>\n",
       "<style scoped>\n",
       "    .dataframe tbody tr th:only-of-type {\n",
       "        vertical-align: middle;\n",
       "    }\n",
       "\n",
       "    .dataframe tbody tr th {\n",
       "        vertical-align: top;\n",
       "    }\n",
       "\n",
       "    .dataframe thead th {\n",
       "        text-align: right;\n",
       "    }\n",
       "</style>\n",
       "<table border=\"1\" class=\"dataframe\">\n",
       "  <thead>\n",
       "    <tr style=\"text-align: right;\">\n",
       "      <th></th>\n",
       "      <th>scheduled_flying_distance_hist</th>\n",
       "      <th>actual_flying_distance_hist</th>\n",
       "      <th>scheduled_flying_distance_sim</th>\n",
       "      <th>actual_flying_distance_sim</th>\n",
       "      <th>diff_sch</th>\n",
       "    </tr>\n",
       "  </thead>\n",
       "  <tbody>\n",
       "    <tr>\n",
       "      <th>AA34820675</th>\n",
       "      <td>237.580994</td>\n",
       "      <td>197.084233</td>\n",
       "      <td>237.58</td>\n",
       "      <td>237.58</td>\n",
       "      <td>-0.000994</td>\n",
       "    </tr>\n",
       "    <tr>\n",
       "      <th>AA34820700</th>\n",
       "      <td>182.505400</td>\n",
       "      <td>182.505400</td>\n",
       "      <td>217.60</td>\n",
       "      <td>217.60</td>\n",
       "      <td>35.094600</td>\n",
       "    </tr>\n",
       "    <tr>\n",
       "      <th>AA34850875</th>\n",
       "      <td>633.909287</td>\n",
       "      <td>627.969762</td>\n",
       "      <td>633.91</td>\n",
       "      <td>640.63</td>\n",
       "      <td>0.000713</td>\n",
       "    </tr>\n",
       "    <tr>\n",
       "      <th>AA34859875</th>\n",
       "      <td>2258.099352</td>\n",
       "      <td>2247.300216</td>\n",
       "      <td>2413.61</td>\n",
       "      <td>2388.00</td>\n",
       "      <td>155.510648</td>\n",
       "    </tr>\n",
       "    <tr>\n",
       "      <th>AA34860589</th>\n",
       "      <td>964.362851</td>\n",
       "      <td>964.362851</td>\n",
       "      <td>964.36</td>\n",
       "      <td>951.18</td>\n",
       "      <td>-0.002851</td>\n",
       "    </tr>\n",
       "  </tbody>\n",
       "</table>\n",
       "</div>"
      ],
      "text/plain": [
       "            scheduled_flying_distance_hist  actual_flying_distance_hist  \\\n",
       "AA34820675                      237.580994                   197.084233   \n",
       "AA34820700                      182.505400                   182.505400   \n",
       "AA34850875                      633.909287                   627.969762   \n",
       "AA34859875                     2258.099352                  2247.300216   \n",
       "AA34860589                      964.362851                   964.362851   \n",
       "\n",
       "            scheduled_flying_distance_sim  actual_flying_distance_sim  \\\n",
       "AA34820675                         237.58                      237.58   \n",
       "AA34820700                         217.60                      217.60   \n",
       "AA34850875                         633.91                      640.63   \n",
       "AA34859875                        2413.61                     2388.00   \n",
       "AA34860589                         964.36                      951.18   \n",
       "\n",
       "              diff_sch  \n",
       "AA34820675   -0.000994  \n",
       "AA34820700   35.094600  \n",
       "AA34850875    0.000713  \n",
       "AA34859875  155.510648  \n",
       "AA34860589   -0.002851  "
      ]
     },
     "execution_count": 200,
     "metadata": {},
     "output_type": "execute_result"
    }
   ],
   "source": [
    "coin = df_hist[['ifps_id', 'scheduled_flying_distance', 'actual_flying_distance']].set_index('ifps_id')\n",
    "pouet = df2[['ifps_id', 'scheduled_flying_distance', 'actual_flying_distance']].set_index('ifps_id')\n",
    "#pouet.join(coin, on='ifps_id', how='inner', lsuffix='hist', rsuffix='sim')\n",
    "go = pd.concat([coin.rename(columns={col:col+'_hist' for col in coin.columns}), \n",
    "                pouet.rename(columns={col:col+'_sim' for col in pouet.columns})],\n",
    "               axis=1)\n",
    "go['diff_sch'] = go['scheduled_flying_distance_sim'] - go['scheduled_flying_distance_hist']\n",
    "go.head()"
   ]
  },
  {
   "cell_type": "markdown",
   "metadata": {},
   "source": [
    "# Average values"
   ]
  },
  {
   "cell_type": "code",
   "execution_count": 201,
   "metadata": {},
   "outputs": [
    {
     "name": "stdout",
     "output_type": "stream",
     "text": [
      "Number of flights: 27261 27261 27261\n"
     ]
    }
   ],
   "source": [
    "print ('Number of flights:', len(df), len(df2), len(df_hist))"
   ]
  },
  {
   "cell_type": "code",
   "execution_count": 202,
   "metadata": {},
   "outputs": [
    {
     "name": "stdout",
     "output_type": "stream",
     "text": [
      "First values are from model, second ones are from historical data\n",
      "Average departure delay: 12.950074168255984 11.42863370138048\n",
      "Average arrival delay: 6.579191752988544 6.648379247520879\n",
      "Average scheduled G2G time: 159.46605040167273 159.46605040167273\n",
      "Average actual G2G time: 153.16077309499772 154.68579594781312\n",
      "Average scheduled flying time: 135.1413920986024 137.276259124757\n",
      "Average actual flying time: 134.4272618825025 137.11586087573212\n",
      "Average scheduled flying distance: 965.267209199956 960.5703382620114\n",
      "Average actual flying distance: 955.4182310253245 948.5148880397261\n",
      "Average actual taxi-out time: 12.331404937456442 12.517607631788076 11.837790249807417\n",
      "Average actual taxi-in time: 5.637788782509813 5.728038047303737\n",
      "Average G2G diff. time bet. scheduled and actual: -6.370882415267442 -4.780254453859604\n"
     ]
    }
   ],
   "source": [
    "print ('First values are from model, second ones are from historical data')\n",
    "print ('Average departure delay:', df['departure_delay'].mean(), df_hist['departure_delay'].mean())\n",
    "print ('Average arrival delay:', df['arrival_delay'].mean(), df_hist['arrival_delay'].mean())\n",
    "print ('Average scheduled G2G time:', df['scheduled_G2G_time'].mean(), df_hist['scheduled_G2G_time'].mean())\n",
    "print ('Average actual G2G time:', df['actual_G2G_time'].mean(), df_hist['actual_G2G_time'].mean())\n",
    "print ('Average scheduled flying time:', df['scheduled_flying_time'].mean(), df_hist['scheduled_flying_time'].mean())\n",
    "print ('Average actual flying time:', df['actual_flying_time'].mean(), df_hist['actual_flying_time'].mean())\n",
    "print ('Average scheduled flying distance:', df['scheduled_flying_distance'].mean(), df_hist['scheduled_flying_distance'].mean())\n",
    "print ('Average actual flying distance:', df['actual_flying_distance'].mean(), df_hist['actual_flying_distance'].mean())\n",
    "print ('Average actual taxi-out time:', df['axot'].mean(), df_hist['taxi_out'].mean(), df_hist['taxi_out_traj'].mean())\n",
    "print ('Average actual taxi-in time:', df['axit'].mean(), df_hist['taxi_in'].mean())\n",
    "print ('Average G2G diff. time bet. scheduled and actual:', df['travelling_time_diff'].mean(), df_hist['travelling_time_diff'].mean())"
   ]
  },
  {
   "cell_type": "code",
   "execution_count": 203,
   "metadata": {},
   "outputs": [
    {
     "name": "stdout",
     "output_type": "stream",
     "text": [
      "Reactionary delay proportion: 0.30784417040509826 0.445\n",
      "Turnaround delay proportion: 0.45238849245226037 0.358\n",
      "ATFM en-route delay proportion: 0.1584089730827155 0.075\n",
      "ATFM airport delay proportion: 0.05707893338087108 0.072\n",
      "ATFM weather delay proportion: 0.024279430679054977 0.019\n",
      "\n",
      "Additional reactionary delay needed to reach the target (in avg per flight): 1.1751811226049411 min\n",
      "Additional turnaround delay needed to reach the target (in avg per flight): -1.6552642223934084 min\n",
      "Additional ATFM en-route delay needed to reach the target (in avg per flight): -1.1551300851032615 min\n",
      "Additional ATFM airport delay needed to reach the target (in avg per flight): 0.09778489906215215 min\n",
      "Additional ATFM weather delay needed to reach the target (in avg per flight): -0.09127885929838728 min\n",
      "Check no reason delay (should be 0): 0.0\n"
     ]
    }
   ],
   "source": [
    "# Types of delays\n",
    "a1, a2, a3, a4, a5 = 0.445, 0.358, 0.075, 0.072, 0.019 # from PRR 2017 (TODO: find 2014)\n",
    "tot_delay =  df['departure_delay'].sum()\n",
    "target_avg_delay = df_hist['departure_delay'].mean()\n",
    "print ('Reactionary delay proportion:', df[df['main_reason_delay']=='RD']['departure_delay'].sum()/tot_delay, a1)\n",
    "print ('Turnaround delay proportion:', df[df['main_reason_delay']=='TA']['departure_delay'].sum()/tot_delay, a2)\n",
    "print ('ATFM en-route delay proportion:', df[df['main_reason_delay']=='ER']['departure_delay'].sum()/tot_delay, a3)\n",
    "print ('ATFM airport delay proportion:', df[df['main_reason_delay']=='C']['departure_delay'].sum()/tot_delay, a4)\n",
    "print ('ATFM weather delay proportion:', df[df['main_reason_delay']=='W']['departure_delay'].sum()/tot_delay, a5)\n",
    "print ()\n",
    "\n",
    "# Missing absolute delay for each type:\n",
    "print ('Additional reactionary delay needed to reach the target (in avg per flight):', a1*target_avg_delay - df[df['main_reason_delay']=='RD']['departure_delay'].sum()/len(df), 'min')\n",
    "print ('Additional turnaround delay needed to reach the target (in avg per flight):', a2*target_avg_delay - df[df['main_reason_delay']=='TA']['departure_delay'].sum()/len(df), 'min')\n",
    "print ('Additional ATFM en-route delay needed to reach the target (in avg per flight):', a3*target_avg_delay - df[df['main_reason_delay']=='ER']['departure_delay'].sum()/len(df), 'min')\n",
    "print ('Additional ATFM airport delay needed to reach the target (in avg per flight):', a4*target_avg_delay - df[df['main_reason_delay']=='C']['departure_delay'].sum()/len(df), 'min')\n",
    "print ('Additional ATFM weather delay needed to reach the target (in avg per flight):', a5*target_avg_delay - df[df['main_reason_delay']=='W']['departure_delay'].sum()/len(df), 'min')\n",
    "print ('Check no reason delay (should be 0):', df[pd.isnull(df['main_reason_delay'])]['departure_delay'].sum())"
   ]
  },
  {
   "cell_type": "code",
   "execution_count": 204,
   "metadata": {},
   "outputs": [
    {
     "name": "stdout",
     "output_type": "stream",
     "text": [
      "Arrival delay is composed of:\n",
      "- departure delay: 12.950074168255984 11.42863370138048\n",
      "- flying delay: -0.7141302160999032 -0.16039824902486544\n",
      "- taxi delay: -5.656752199167537 -4.619856204834736\n",
      "Total: 6.579191752988544 6.648379247520879\n"
     ]
    }
   ],
   "source": [
    "# Arrival delays\n",
    "print ('Arrival delay is composed of:')\n",
    "print ('- departure delay:', df['departure_delay'].mean(),  df_hist['departure_delay'].mean())\n",
    "print ('- flying delay:', df['actual_flying_time'].mean() - df['scheduled_flying_time'].mean(), df_hist['actual_flying_time'].mean() - df_hist['scheduled_flying_time'].mean())\n",
    "taxi_delay_sim = df['arrival_delay'].mean() -  df['departure_delay'].mean() - (df['actual_flying_time'].mean() - df['scheduled_flying_time'].mean())\n",
    "taxi_delay_hist = df_hist['arrival_delay'].mean() -  df_hist['departure_delay'].mean() - (df_hist['actual_flying_time'].mean() - df_hist['scheduled_flying_time'].mean())\n",
    "print ('- taxi delay:', taxi_delay_sim, taxi_delay_hist)\n",
    "print ('Total:', df['arrival_delay'].mean(), df_hist['arrival_delay'].mean())"
   ]
  },
  {
   "cell_type": "markdown",
   "metadata": {},
   "source": [
    "# Distributions"
   ]
  },
  {
   "cell_type": "markdown",
   "metadata": {},
   "source": [
    "## Departure delay"
   ]
  },
  {
   "cell_type": "code",
   "execution_count": 145,
   "metadata": {},
   "outputs": [
    {
     "data": {
      "image/png": "[encoded data removed]",
      "text/plain": [
       "<Figure size 1080x720 with 1 Axes>"
      ]
     },
     "metadata": {},
     "output_type": "display_data"
    }
   ],
   "source": [
    "fig, ax = subplots(figsize=(15, 10))\n",
    "df['departure_delay'].hist(bins=500, ax=ax, alpha=0.7, label='Dep. delay')\n",
    "df['atfm_delay'].hist(bins=500, ax=ax, alpha=0.7, label='ATFM delay')\n",
    "ax.legend()\n",
    "ax.set_title('Departure and ATFM delay')\n",
    "ax.set_xlim((0, 100))\n",
    "ax.set_yscale('log')"
   ]
  },
  {
   "cell_type": "code",
   "execution_count": 146,
   "metadata": {},
   "outputs": [
    {
     "data": {
      "text/plain": [
       "(-20, 100)"
      ]
     },
     "execution_count": 146,
     "metadata": {},
     "output_type": "execute_result"
    },
    {
     "data": {
      "image/png": "[encoded data removed]",
      "text/plain": [
       "<Figure size 1080x720 with 1 Axes>"
      ]
     },
     "metadata": {},
     "output_type": "display_data"
    }
   ],
   "source": [
    "fig, ax = subplots(figsize=(15, 10))\n",
    "df['departure_delay'].hist(bins=500, ax=ax, alpha=0.7, label='Sim.', cumulative=True, normed=True)\n",
    "df_hist['departure_delay'].hist(bins=500, ax=ax, alpha=0.7, label='Hist.', cumulative=True, normed=True)\n",
    "ax.legend()\n",
    "ax.set_title('Calibration departure delay')\n",
    "ax.set_xlim((-20, 100))\n",
    "#ax.set_yscale('log')"
   ]
  },
  {
   "cell_type": "code",
   "execution_count": 147,
   "metadata": {},
   "outputs": [
    {
     "data": {
      "text/plain": [
       "(-20, 100)"
      ]
     },
     "execution_count": 147,
     "metadata": {},
     "output_type": "execute_result"
    },
    {
     "data": {
      "image/png": "[encoded data removed]",
      "text/plain": [
       "<Figure size 1080x720 with 1 Axes>"
      ]
     },
     "metadata": {},
     "output_type": "display_data"
    }
   ],
   "source": [
    "fig, ax = subplots(figsize=(15, 10))\n",
    "df['departure_delay'].hist(bins=500, ax=ax, alpha=0.7, label='Sim.', cumulative=True, normed=True)\n",
    "df_hist[df_hist['departure_delay']>=0.]['departure_delay'].hist(bins=500, ax=ax, alpha=0.7, label='Hist.', cumulative=True, normed=True)\n",
    "ax.legend()\n",
    "ax.set_title('Calibration on positive departure delay')\n",
    "ax.set_xlim((-20, 100))\n",
    "#ax.set_yscale('log')"
   ]
  },
  {
   "cell_type": "code",
   "execution_count": 148,
   "metadata": {},
   "outputs": [],
   "source": [
    "# # departure delay per type of delay\n",
    "# options = {'bins':100, 'cumulative':True, 'alpha':0.7, 'normed':True}\n",
    "# fig, axes = subplots(3, 2, figsize=(15, 15))\n",
    "# df[df['main_reason_delay']=='RD']['departure_delay'].hist(ax=axes[0][0], label='Sim.', **options)\n",
    "# df[df['main_reason_delay']=='TA']['departure_delay'].hist(ax=axes[0][1], label='Sim.', **options)\n",
    "# df[df['main_reason_delay']=='ER']['departure_delay'].hist(ax=axes[1][0], label='Sim.', **options)\n",
    "# df[df['main_reason_delay']=='C']['departure_delay'].hist(ax=axes[1][1], label='Sim.', **options)\n",
    "# df[df['main_reason_delay']=='W']['departure_delay'].hist(ax=axes[2][0], label='Sim.', **options)"
   ]
  },
  {
   "cell_type": "code",
   "execution_count": 149,
   "metadata": {},
   "outputs": [
    {
     "data": {
      "image/png": "[encoded data removed]",
      "text/plain": [
       "<Figure size 1080x720 with 1 Axes>"
      ]
     },
     "metadata": {},
     "output_type": "display_data"
    }
   ],
   "source": [
    "fig, ax = subplots(figsize=(15, 10))\n",
    "df['arrival_delay'].hist(bins=500, ax=ax, alpha=0.7, label='Sim.')\n",
    "df_hist['arrival_delay'].hist(bins=500, ax=ax, alpha=0.7, label='Hist.')\n",
    "ax.legend()\n",
    "ax.set_title('Calibration arrival delay')\n",
    "ax.set_xlim((0, 100))\n",
    "ax.set_yscale('log')"
   ]
  },
  {
   "cell_type": "code",
   "execution_count": 150,
   "metadata": {},
   "outputs": [
    {
     "data": {
      "text/plain": [
       "Text(0.5,1,'Calibration actual G2G time')"
      ]
     },
     "execution_count": 150,
     "metadata": {},
     "output_type": "execute_result"
    },
    {
     "data": {
      "image/png": "[encoded data removed]",
      "text/plain": [
       "<Figure size 1080x720 with 1 Axes>"
      ]
     },
     "metadata": {},
     "output_type": "display_data"
    }
   ],
   "source": [
    "fig, ax = subplots(figsize=(15, 10))\n",
    "df['actual_G2G_time'].hist(bins=100, ax=ax, alpha=0.7, label='Sim.')\n",
    "df_hist['actual_G2G_time'].hist(bins=100, ax=ax, alpha=0.7, label='Hist.')\n",
    "ax.legend()\n",
    "ax.set_title('Calibration actual G2G time')\n",
    "#ax.set_xlim((0, 100))\n",
    "#ax.set_yscale('log')"
   ]
  },
  {
   "cell_type": "code",
   "execution_count": 151,
   "metadata": {},
   "outputs": [
    {
     "data": {
      "text/plain": [
       "Text(0.5,1,'Calibration actual flying time')"
      ]
     },
     "execution_count": 151,
     "metadata": {},
     "output_type": "execute_result"
    },
    {
     "data": {
      "image/png": "[encoded data removed]",
      "text/plain": [
       "<Figure size 1080x720 with 1 Axes>"
      ]
     },
     "metadata": {},
     "output_type": "display_data"
    }
   ],
   "source": [
    "fig, ax = subplots(figsize=(15, 10))\n",
    "df['actual_flying_time'].hist(bins=100, ax=ax, alpha=0.7, label='Sim.')\n",
    "df_hist['actual_flying_time'].hist(bins=100, ax=ax, alpha=0.7, label='Hist.')\n",
    "ax.legend()\n",
    "ax.set_title('Calibration actual flying time')\n",
    "#ax.set_xlim((0, 100))\n",
    "#ax.set_yscale('log')"
   ]
  },
  {
   "cell_type": "code",
   "execution_count": 152,
   "metadata": {},
   "outputs": [
    {
     "data": {
      "text/plain": [
       "Text(0.5,1,'Calibration diff travelling time')"
      ]
     },
     "execution_count": 152,
     "metadata": {},
     "output_type": "execute_result"
    },
    {
     "data": {
      "image/png": "[encoded data removed]",
      "text/plain": [
       "<Figure size 1080x720 with 1 Axes>"
      ]
     },
     "metadata": {},
     "output_type": "display_data"
    }
   ],
   "source": [
    "fig, ax = subplots(figsize=(15, 10))\n",
    "df['travelling_time_diff'].hist(bins=100, ax=ax, alpha=0.7, label='Sim.')\n",
    "df_hist['travelling_time_diff'].hist(bins=100, ax=ax, alpha=0.7, label='Hist.')\n",
    "ax.legend()\n",
    "ax.set_title('Calibration diff travelling time')\n",
    "#ax.set_xlim((0, 100))\n",
    "#ax.set_yscale('log')"
   ]
  },
  {
   "cell_type": "code",
   "execution_count": 156,
   "metadata": {},
   "outputs": [
    {
     "data": {
      "text/plain": [
       "Text(0.5,1,'Calibration flying distance')"
      ]
     },
     "execution_count": 156,
     "metadata": {},
     "output_type": "execute_result"
    },
    {
     "data": {
      "image/png": "[encoded data removed]",
      "text/plain": [
       "<Figure size 1080x720 with 1 Axes>"
      ]
     },
     "metadata": {},
     "output_type": "display_data"
    }
   ],
   "source": [
    "fig, ax = subplots(figsize=(15, 10))\n",
    "df['scheduled_flying_distance'].hist(bins=200, ax=ax, alpha=0.7, label='Sim.')\n",
    "(df_hist['scheduled_flying_distance']).hist(bins=200, ax=ax, alpha=0.7, label='Hist.')\n",
    "ax.legend()\n",
    "ax.set_title('Calibration flying distance')\n",
    "#ax.set_xlim((0, 100))\n",
    "#ax.set_yscale('log')"
   ]
  },
  {
   "cell_type": "code",
   "execution_count": 157,
   "metadata": {},
   "outputs": [
    {
     "data": {
      "text/plain": [
       "Text(0.5,1,'Types of ATFM reasons')"
      ]
     },
     "execution_count": 157,
     "metadata": {},
     "output_type": "execute_result"
    },
    {
     "data": {
      "image/png": "[encoded data removed]",
      "text/plain": [
       "<Figure size 1080x720 with 1 Axes>"
      ]
     },
     "metadata": {},
     "output_type": "display_data"
    }
   ],
   "source": [
    "fig, ax = subplots(figsize=(15, 10))\n",
    "mask = df['atfm_reason']=='C_AP'\n",
    "df[mask]['atfm_delay'].hist(bins=20, ax=ax, alpha=0.7, label='C AP')\n",
    "mask = df['atfm_reason']=='W'\n",
    "df[mask]['atfm_delay'].hist(bins=20, ax=ax, alpha=0.7, label='W')\n",
    "mask = df['atfm_reason']=='NW'\n",
    "df[mask]['atfm_delay'].hist(bins=100, ax=ax, alpha=0.7, label='NW')\n",
    "ax.legend()\n",
    "ax.set_title('Types of ATFM reasons')\n",
    "#ax = df['flight_time_diff'].hist(bins=500, figsize=(10, 7), label='Hist.')\n",
    "#ax.set_xlim((0, 100))\n",
    "#ax.set_yscale('log')"
   ]
  },
  {
   "cell_type": "code",
   "execution_count": 181,
   "metadata": {},
   "outputs": [
    {
     "data": {
      "text/plain": [
       "<matplotlib.axes._subplots.AxesSubplot at 0x7fdde7c31cf8>"
      ]
     },
     "execution_count": 181,
     "metadata": {},
     "output_type": "execute_result"
    },
    {
     "data": {
      "image/png": "[encoded data removed]",
      "text/plain": [
       "<Figure size 1080x720 with 1 Axes>"
      ]
     },
     "metadata": {},
     "output_type": "display_data"
    }
   ],
   "source": [
    "fig, ax = subplots(figsize=(15, 10))\n",
    "go.rename(columns={col:col.replace('_', ' ') for col in go.columns}).plot(x='scheduled flying distance hist', y='diff sch', kind='scatter', ax=ax, alpha=0.7)#, label='Sim.')\n",
    "# (df_hist['scheduled_flying_distance']).hist(bins=200, ax=ax, alpha=0.7, label='Hist.')\n",
    "# ax.legend()\n",
    "# ax.set_title('Calibration flying distance')"
   ]
  },
  {
   "cell_type": "code",
   "execution_count": 191,
   "metadata": {
    "scrolled": true
   },
   "outputs": [
    {
     "data": {
      "text/html": [
       "<div>\n",
       "<style scoped>\n",
       "    .dataframe tbody tr th:only-of-type {\n",
       "        vertical-align: middle;\n",
       "    }\n",
       "\n",
       "    .dataframe tbody tr th {\n",
       "        vertical-align: top;\n",
       "    }\n",
       "\n",
       "    .dataframe thead th {\n",
       "        text-align: right;\n",
       "    }\n",
       "</style>\n",
       "<table border=\"1\" class=\"dataframe\">\n",
       "  <thead>\n",
       "    <tr style=\"text-align: right;\">\n",
       "      <th></th>\n",
       "      <th>scheduled_flying_distance_hist</th>\n",
       "      <th>actual_flying_distance_hist</th>\n",
       "      <th>scheduled_flying_distance_sim</th>\n",
       "      <th>actual_flying_distance_sim</th>\n",
       "      <th>diff_sch</th>\n",
       "      <th>ratio</th>\n",
       "    </tr>\n",
       "  </thead>\n",
       "  <tbody>\n",
       "    <tr>\n",
       "      <th>AA34904620</th>\n",
       "      <td>130.129590</td>\n",
       "      <td>75.593952</td>\n",
       "      <td>84.23</td>\n",
       "      <td>84.23</td>\n",
       "      <td>-45.899590</td>\n",
       "      <td>-0.352722</td>\n",
       "    </tr>\n",
       "    <tr>\n",
       "      <th>AA34907163</th>\n",
       "      <td>124.190065</td>\n",
       "      <td>95.572354</td>\n",
       "      <td>84.23</td>\n",
       "      <td>84.23</td>\n",
       "      <td>-39.960065</td>\n",
       "      <td>-0.321765</td>\n",
       "    </tr>\n",
       "    <tr>\n",
       "      <th>AA34910695</th>\n",
       "      <td>179.265659</td>\n",
       "      <td>169.006479</td>\n",
       "      <td>241.36</td>\n",
       "      <td>241.36</td>\n",
       "      <td>62.094341</td>\n",
       "      <td>0.346382</td>\n",
       "    </tr>\n",
       "    <tr>\n",
       "      <th>AA34911296</th>\n",
       "      <td>31.317495</td>\n",
       "      <td>31.317495</td>\n",
       "      <td>21.06</td>\n",
       "      <td>21.06</td>\n",
       "      <td>-10.257495</td>\n",
       "      <td>-0.327532</td>\n",
       "    </tr>\n",
       "    <tr>\n",
       "      <th>AA34911437</th>\n",
       "      <td>31.317495</td>\n",
       "      <td>31.317495</td>\n",
       "      <td>21.06</td>\n",
       "      <td>21.06</td>\n",
       "      <td>-10.257495</td>\n",
       "      <td>-0.327532</td>\n",
       "    </tr>\n",
       "    <tr>\n",
       "      <th>AA34911809</th>\n",
       "      <td>191.144708</td>\n",
       "      <td>151.727862</td>\n",
       "      <td>150.65</td>\n",
       "      <td>150.65</td>\n",
       "      <td>-40.494708</td>\n",
       "      <td>-0.211854</td>\n",
       "    </tr>\n",
       "    <tr>\n",
       "      <th>AA34911823</th>\n",
       "      <td>316.954644</td>\n",
       "      <td>224.082073</td>\n",
       "      <td>233.26</td>\n",
       "      <td>215.67</td>\n",
       "      <td>-83.694644</td>\n",
       "      <td>-0.264059</td>\n",
       "    </tr>\n",
       "    <tr>\n",
       "      <th>AA34911871</th>\n",
       "      <td>49.136069</td>\n",
       "      <td>62.634989</td>\n",
       "      <td>116.09</td>\n",
       "      <td>116.09</td>\n",
       "      <td>66.953931</td>\n",
       "      <td>1.362623</td>\n",
       "    </tr>\n",
       "    <tr>\n",
       "      <th>AA34911922</th>\n",
       "      <td>49.136069</td>\n",
       "      <td>49.136069</td>\n",
       "      <td>116.09</td>\n",
       "      <td>116.09</td>\n",
       "      <td>66.953931</td>\n",
       "      <td>1.362623</td>\n",
       "    </tr>\n",
       "    <tr>\n",
       "      <th>AA34912027</th>\n",
       "      <td>49.136069</td>\n",
       "      <td>49.136069</td>\n",
       "      <td>116.09</td>\n",
       "      <td>116.09</td>\n",
       "      <td>66.953931</td>\n",
       "      <td>1.362623</td>\n",
       "    </tr>\n",
       "    <tr>\n",
       "      <th>AA34912573</th>\n",
       "      <td>31.317495</td>\n",
       "      <td>31.317495</td>\n",
       "      <td>21.06</td>\n",
       "      <td>21.06</td>\n",
       "      <td>-10.257495</td>\n",
       "      <td>-0.327532</td>\n",
       "    </tr>\n",
       "    <tr>\n",
       "      <th>AA34913192</th>\n",
       "      <td>276.997840</td>\n",
       "      <td>181.425486</td>\n",
       "      <td>189.52</td>\n",
       "      <td>219.87</td>\n",
       "      <td>-87.477840</td>\n",
       "      <td>-0.315807</td>\n",
       "    </tr>\n",
       "    <tr>\n",
       "      <th>AA34913215</th>\n",
       "      <td>276.997840</td>\n",
       "      <td>181.965443</td>\n",
       "      <td>189.52</td>\n",
       "      <td>204.22</td>\n",
       "      <td>-87.477840</td>\n",
       "      <td>-0.315807</td>\n",
       "    </tr>\n",
       "    <tr>\n",
       "      <th>AA34913278</th>\n",
       "      <td>276.997840</td>\n",
       "      <td>175.485961</td>\n",
       "      <td>189.52</td>\n",
       "      <td>176.09</td>\n",
       "      <td>-87.477840</td>\n",
       "      <td>-0.315807</td>\n",
       "    </tr>\n",
       "    <tr>\n",
       "      <th>AA34913315</th>\n",
       "      <td>276.997840</td>\n",
       "      <td>171.706263</td>\n",
       "      <td>189.52</td>\n",
       "      <td>180.11</td>\n",
       "      <td>-87.477840</td>\n",
       "      <td>-0.315807</td>\n",
       "    </tr>\n",
       "    <tr>\n",
       "      <th>AA34913617</th>\n",
       "      <td>31.317495</td>\n",
       "      <td>31.317495</td>\n",
       "      <td>21.06</td>\n",
       "      <td>21.06</td>\n",
       "      <td>-10.257495</td>\n",
       "      <td>-0.327532</td>\n",
       "    </tr>\n",
       "    <tr>\n",
       "      <th>AA34913846</th>\n",
       "      <td>269.438445</td>\n",
       "      <td>252.699784</td>\n",
       "      <td>201.40</td>\n",
       "      <td>190.45</td>\n",
       "      <td>-68.038445</td>\n",
       "      <td>-0.252519</td>\n",
       "    </tr>\n",
       "    <tr>\n",
       "      <th>AA34913869</th>\n",
       "      <td>53.995680</td>\n",
       "      <td>53.995680</td>\n",
       "      <td>68.03</td>\n",
       "      <td>68.03</td>\n",
       "      <td>14.034320</td>\n",
       "      <td>0.259916</td>\n",
       "    </tr>\n",
       "    <tr>\n",
       "      <th>AA34914263</th>\n",
       "      <td>161.447084</td>\n",
       "      <td>95.572354</td>\n",
       "      <td>103.67</td>\n",
       "      <td>103.67</td>\n",
       "      <td>-57.777084</td>\n",
       "      <td>-0.357870</td>\n",
       "    </tr>\n",
       "    <tr>\n",
       "      <th>AA34914943</th>\n",
       "      <td>161.447084</td>\n",
       "      <td>103.131749</td>\n",
       "      <td>103.67</td>\n",
       "      <td>103.67</td>\n",
       "      <td>-57.777084</td>\n",
       "      <td>-0.357870</td>\n",
       "    </tr>\n",
       "    <tr>\n",
       "      <th>AA34915206</th>\n",
       "      <td>1164.686825</td>\n",
       "      <td>1070.194384</td>\n",
       "      <td>856.37</td>\n",
       "      <td>863.88</td>\n",
       "      <td>-308.316825</td>\n",
       "      <td>-0.264721</td>\n",
       "    </tr>\n",
       "    <tr>\n",
       "      <th>AA34915604</th>\n",
       "      <td>88.012959</td>\n",
       "      <td>67.494600</td>\n",
       "      <td>66.41</td>\n",
       "      <td>66.41</td>\n",
       "      <td>-21.602959</td>\n",
       "      <td>-0.245452</td>\n",
       "    </tr>\n",
       "    <tr>\n",
       "      <th>AA34916014</th>\n",
       "      <td>299.136069</td>\n",
       "      <td>299.136069</td>\n",
       "      <td>237.58</td>\n",
       "      <td>222.48</td>\n",
       "      <td>-61.556069</td>\n",
       "      <td>-0.205779</td>\n",
       "    </tr>\n",
       "    <tr>\n",
       "      <th>AA34916048</th>\n",
       "      <td>154.427646</td>\n",
       "      <td>103.131749</td>\n",
       "      <td>103.67</td>\n",
       "      <td>103.67</td>\n",
       "      <td>-50.757646</td>\n",
       "      <td>-0.328682</td>\n",
       "    </tr>\n",
       "    <tr>\n",
       "      <th>AA34916510</th>\n",
       "      <td>259.719222</td>\n",
       "      <td>198.164147</td>\n",
       "      <td>200.32</td>\n",
       "      <td>200.32</td>\n",
       "      <td>-59.399222</td>\n",
       "      <td>-0.228706</td>\n",
       "    </tr>\n",
       "    <tr>\n",
       "      <th>AA34916993</th>\n",
       "      <td>326.133909</td>\n",
       "      <td>326.133909</td>\n",
       "      <td>418.47</td>\n",
       "      <td>416.47</td>\n",
       "      <td>92.336091</td>\n",
       "      <td>0.283123</td>\n",
       "    </tr>\n",
       "    <tr>\n",
       "      <th>AA34917019</th>\n",
       "      <td>31.317495</td>\n",
       "      <td>31.317495</td>\n",
       "      <td>21.06</td>\n",
       "      <td>21.06</td>\n",
       "      <td>-10.257495</td>\n",
       "      <td>-0.327532</td>\n",
       "    </tr>\n",
       "    <tr>\n",
       "      <th>AA34917050</th>\n",
       "      <td>233.261339</td>\n",
       "      <td>157.127430</td>\n",
       "      <td>171.17</td>\n",
       "      <td>162.65</td>\n",
       "      <td>-62.091339</td>\n",
       "      <td>-0.266188</td>\n",
       "    </tr>\n",
       "    <tr>\n",
       "      <th>AA34917425</th>\n",
       "      <td>156.047516</td>\n",
       "      <td>150.107991</td>\n",
       "      <td>225.16</td>\n",
       "      <td>225.16</td>\n",
       "      <td>69.112484</td>\n",
       "      <td>0.442894</td>\n",
       "    </tr>\n",
       "    <tr>\n",
       "      <th>AA34917595</th>\n",
       "      <td>179.265659</td>\n",
       "      <td>156.587473</td>\n",
       "      <td>241.36</td>\n",
       "      <td>241.36</td>\n",
       "      <td>62.094341</td>\n",
       "      <td>0.346382</td>\n",
       "    </tr>\n",
       "    <tr>\n",
       "      <th>...</th>\n",
       "      <td>...</td>\n",
       "      <td>...</td>\n",
       "      <td>...</td>\n",
       "      <td>...</td>\n",
       "      <td>...</td>\n",
       "      <td>...</td>\n",
       "    </tr>\n",
       "    <tr>\n",
       "      <th>AA34948078</th>\n",
       "      <td>360.151188</td>\n",
       "      <td>346.652268</td>\n",
       "      <td>433.59</td>\n",
       "      <td>422.12</td>\n",
       "      <td>73.438812</td>\n",
       "      <td>0.203911</td>\n",
       "    </tr>\n",
       "    <tr>\n",
       "      <th>AA34948187</th>\n",
       "      <td>347.732181</td>\n",
       "      <td>325.593952</td>\n",
       "      <td>275.92</td>\n",
       "      <td>288.80</td>\n",
       "      <td>-71.812181</td>\n",
       "      <td>-0.206516</td>\n",
       "    </tr>\n",
       "    <tr>\n",
       "      <th>AA34948250</th>\n",
       "      <td>217.602592</td>\n",
       "      <td>197.084233</td>\n",
       "      <td>277.54</td>\n",
       "      <td>277.54</td>\n",
       "      <td>59.937408</td>\n",
       "      <td>0.275444</td>\n",
       "    </tr>\n",
       "    <tr>\n",
       "      <th>AA34948321</th>\n",
       "      <td>105.291577</td>\n",
       "      <td>96.652268</td>\n",
       "      <td>238.66</td>\n",
       "      <td>238.66</td>\n",
       "      <td>133.368423</td>\n",
       "      <td>1.266658</td>\n",
       "    </tr>\n",
       "    <tr>\n",
       "      <th>AA34948690</th>\n",
       "      <td>211.663067</td>\n",
       "      <td>219.222462</td>\n",
       "      <td>309.40</td>\n",
       "      <td>316.50</td>\n",
       "      <td>97.736933</td>\n",
       "      <td>0.461757</td>\n",
       "    </tr>\n",
       "    <tr>\n",
       "      <th>AA34948908</th>\n",
       "      <td>356.911447</td>\n",
       "      <td>356.911447</td>\n",
       "      <td>275.38</td>\n",
       "      <td>281.13</td>\n",
       "      <td>-81.531447</td>\n",
       "      <td>-0.228436</td>\n",
       "    </tr>\n",
       "    <tr>\n",
       "      <th>AA34949281</th>\n",
       "      <td>299.136069</td>\n",
       "      <td>299.136069</td>\n",
       "      <td>237.58</td>\n",
       "      <td>250.06</td>\n",
       "      <td>-61.556069</td>\n",
       "      <td>-0.205779</td>\n",
       "    </tr>\n",
       "    <tr>\n",
       "      <th>AA34949622</th>\n",
       "      <td>191.144708</td>\n",
       "      <td>165.766739</td>\n",
       "      <td>151.19</td>\n",
       "      <td>151.19</td>\n",
       "      <td>-39.954708</td>\n",
       "      <td>-0.209029</td>\n",
       "    </tr>\n",
       "    <tr>\n",
       "      <th>AA34950022</th>\n",
       "      <td>217.602592</td>\n",
       "      <td>206.263499</td>\n",
       "      <td>264.04</td>\n",
       "      <td>264.04</td>\n",
       "      <td>46.437408</td>\n",
       "      <td>0.213405</td>\n",
       "    </tr>\n",
       "    <tr>\n",
       "      <th>AA34950219</th>\n",
       "      <td>299.136069</td>\n",
       "      <td>299.136069</td>\n",
       "      <td>237.58</td>\n",
       "      <td>215.59</td>\n",
       "      <td>-61.556069</td>\n",
       "      <td>-0.205779</td>\n",
       "    </tr>\n",
       "    <tr>\n",
       "      <th>AA34950657</th>\n",
       "      <td>211.663067</td>\n",
       "      <td>211.663067</td>\n",
       "      <td>166.85</td>\n",
       "      <td>167.08</td>\n",
       "      <td>-44.813067</td>\n",
       "      <td>-0.211719</td>\n",
       "    </tr>\n",
       "    <tr>\n",
       "      <th>AA34951029</th>\n",
       "      <td>132.289417</td>\n",
       "      <td>132.289417</td>\n",
       "      <td>185.21</td>\n",
       "      <td>185.21</td>\n",
       "      <td>52.920583</td>\n",
       "      <td>0.400036</td>\n",
       "    </tr>\n",
       "    <tr>\n",
       "      <th>AA34951063</th>\n",
       "      <td>421.706263</td>\n",
       "      <td>406.047516</td>\n",
       "      <td>532.94</td>\n",
       "      <td>514.42</td>\n",
       "      <td>111.233737</td>\n",
       "      <td>0.263771</td>\n",
       "    </tr>\n",
       "    <tr>\n",
       "      <th>AA34951168</th>\n",
       "      <td>186.285097</td>\n",
       "      <td>179.805616</td>\n",
       "      <td>144.17</td>\n",
       "      <td>144.17</td>\n",
       "      <td>-42.115097</td>\n",
       "      <td>-0.226079</td>\n",
       "    </tr>\n",
       "    <tr>\n",
       "      <th>AA34951292</th>\n",
       "      <td>1070.194384</td>\n",
       "      <td>1070.194384</td>\n",
       "      <td>744.06</td>\n",
       "      <td>716.29</td>\n",
       "      <td>-326.134384</td>\n",
       "      <td>-0.304743</td>\n",
       "    </tr>\n",
       "    <tr>\n",
       "      <th>AA34951595</th>\n",
       "      <td>184.665227</td>\n",
       "      <td>184.665227</td>\n",
       "      <td>222.46</td>\n",
       "      <td>212.23</td>\n",
       "      <td>37.794773</td>\n",
       "      <td>0.204666</td>\n",
       "    </tr>\n",
       "    <tr>\n",
       "      <th>AA34951607</th>\n",
       "      <td>299.136069</td>\n",
       "      <td>299.136069</td>\n",
       "      <td>237.58</td>\n",
       "      <td>222.63</td>\n",
       "      <td>-61.556069</td>\n",
       "      <td>-0.205779</td>\n",
       "    </tr>\n",
       "    <tr>\n",
       "      <th>AA34952052</th>\n",
       "      <td>226.781857</td>\n",
       "      <td>226.781857</td>\n",
       "      <td>312.10</td>\n",
       "      <td>328.86</td>\n",
       "      <td>85.318143</td>\n",
       "      <td>0.376212</td>\n",
       "    </tr>\n",
       "    <tr>\n",
       "      <th>AA34952182</th>\n",
       "      <td>154.967603</td>\n",
       "      <td>151.187905</td>\n",
       "      <td>192.22</td>\n",
       "      <td>192.22</td>\n",
       "      <td>37.252397</td>\n",
       "      <td>0.240388</td>\n",
       "    </tr>\n",
       "    <tr>\n",
       "      <th>AA34952401</th>\n",
       "      <td>129.049676</td>\n",
       "      <td>116.630670</td>\n",
       "      <td>179.81</td>\n",
       "      <td>173.22</td>\n",
       "      <td>50.760324</td>\n",
       "      <td>0.393339</td>\n",
       "    </tr>\n",
       "    <tr>\n",
       "      <th>AA34952591</th>\n",
       "      <td>187.365011</td>\n",
       "      <td>187.365011</td>\n",
       "      <td>246.22</td>\n",
       "      <td>239.47</td>\n",
       "      <td>58.854989</td>\n",
       "      <td>0.314119</td>\n",
       "    </tr>\n",
       "    <tr>\n",
       "      <th>AA34952770</th>\n",
       "      <td>299.136069</td>\n",
       "      <td>299.136069</td>\n",
       "      <td>237.58</td>\n",
       "      <td>257.43</td>\n",
       "      <td>-61.556069</td>\n",
       "      <td>-0.205779</td>\n",
       "    </tr>\n",
       "    <tr>\n",
       "      <th>AA34953248</th>\n",
       "      <td>91.252700</td>\n",
       "      <td>92.872570</td>\n",
       "      <td>112.31</td>\n",
       "      <td>112.31</td>\n",
       "      <td>21.057300</td>\n",
       "      <td>0.230758</td>\n",
       "    </tr>\n",
       "    <tr>\n",
       "      <th>AA34953251</th>\n",
       "      <td>120.950324</td>\n",
       "      <td>93.412527</td>\n",
       "      <td>85.85</td>\n",
       "      <td>85.85</td>\n",
       "      <td>-35.100324</td>\n",
       "      <td>-0.290204</td>\n",
       "    </tr>\n",
       "    <tr>\n",
       "      <th>AA34953307</th>\n",
       "      <td>231.101512</td>\n",
       "      <td>197.624190</td>\n",
       "      <td>277.54</td>\n",
       "      <td>265.99</td>\n",
       "      <td>46.438488</td>\n",
       "      <td>0.200944</td>\n",
       "    </tr>\n",
       "    <tr>\n",
       "      <th>AA34953866</th>\n",
       "      <td>306.695464</td>\n",
       "      <td>210.583153</td>\n",
       "      <td>227.32</td>\n",
       "      <td>214.41</td>\n",
       "      <td>-79.375464</td>\n",
       "      <td>-0.258809</td>\n",
       "    </tr>\n",
       "    <tr>\n",
       "      <th>AA34954197</th>\n",
       "      <td>157.127430</td>\n",
       "      <td>127.969762</td>\n",
       "      <td>119.87</td>\n",
       "      <td>119.87</td>\n",
       "      <td>-37.257430</td>\n",
       "      <td>-0.237116</td>\n",
       "    </tr>\n",
       "    <tr>\n",
       "      <th>AA34955529</th>\n",
       "      <td>1070.194384</td>\n",
       "      <td>1070.194384</td>\n",
       "      <td>744.06</td>\n",
       "      <td>728.48</td>\n",
       "      <td>-326.134384</td>\n",
       "      <td>-0.304743</td>\n",
       "    </tr>\n",
       "    <tr>\n",
       "      <th>AA34955622</th>\n",
       "      <td>232.181425</td>\n",
       "      <td>205.723542</td>\n",
       "      <td>280.78</td>\n",
       "      <td>279.24</td>\n",
       "      <td>48.598575</td>\n",
       "      <td>0.209313</td>\n",
       "    </tr>\n",
       "    <tr>\n",
       "      <th>AA34959789</th>\n",
       "      <td>187.904968</td>\n",
       "      <td>80.453564</td>\n",
       "      <td>131.75</td>\n",
       "      <td>131.75</td>\n",
       "      <td>-56.154968</td>\n",
       "      <td>-0.298848</td>\n",
       "    </tr>\n",
       "  </tbody>\n",
       "</table>\n",
       "<p>371 rows × 6 columns</p>\n",
       "</div>"
      ],
      "text/plain": [
       "            scheduled_flying_distance_hist  actual_flying_distance_hist  \\\n",
       "AA34904620                      130.129590                    75.593952   \n",
       "AA34907163                      124.190065                    95.572354   \n",
       "AA34910695                      179.265659                   169.006479   \n",
       "AA34911296                       31.317495                    31.317495   \n",
       "AA34911437                       31.317495                    31.317495   \n",
       "AA34911809                      191.144708                   151.727862   \n",
       "AA34911823                      316.954644                   224.082073   \n",
       "AA34911871                       49.136069                    62.634989   \n",
       "AA34911922                       49.136069                    49.136069   \n",
       "AA34912027                       49.136069                    49.136069   \n",
       "AA34912573                       31.317495                    31.317495   \n",
       "AA34913192                      276.997840                   181.425486   \n",
       "AA34913215                      276.997840                   181.965443   \n",
       "AA34913278                      276.997840                   175.485961   \n",
       "AA34913315                      276.997840                   171.706263   \n",
       "AA34913617                       31.317495                    31.317495   \n",
       "AA34913846                      269.438445                   252.699784   \n",
       "AA34913869                       53.995680                    53.995680   \n",
       "AA34914263                      161.447084                    95.572354   \n",
       "AA34914943                      161.447084                   103.131749   \n",
       "AA34915206                     1164.686825                  1070.194384   \n",
       "AA34915604                       88.012959                    67.494600   \n",
       "AA34916014                      299.136069                   299.136069   \n",
       "AA34916048                      154.427646                   103.131749   \n",
       "AA34916510                      259.719222                   198.164147   \n",
       "AA34916993                      326.133909                   326.133909   \n",
       "AA34917019                       31.317495                    31.317495   \n",
       "AA34917050                      233.261339                   157.127430   \n",
       "AA34917425                      156.047516                   150.107991   \n",
       "AA34917595                      179.265659                   156.587473   \n",
       "...                                    ...                          ...   \n",
       "AA34948078                      360.151188                   346.652268   \n",
       "AA34948187                      347.732181                   325.593952   \n",
       "AA34948250                      217.602592                   197.084233   \n",
       "AA34948321                      105.291577                    96.652268   \n",
       "AA34948690                      211.663067                   219.222462   \n",
       "AA34948908                      356.911447                   356.911447   \n",
       "AA34949281                      299.136069                   299.136069   \n",
       "AA34949622                      191.144708                   165.766739   \n",
       "AA34950022                      217.602592                   206.263499   \n",
       "AA34950219                      299.136069                   299.136069   \n",
       "AA34950657                      211.663067                   211.663067   \n",
       "AA34951029                      132.289417                   132.289417   \n",
       "AA34951063                      421.706263                   406.047516   \n",
       "AA34951168                      186.285097                   179.805616   \n",
       "AA34951292                     1070.194384                  1070.194384   \n",
       "AA34951595                      184.665227                   184.665227   \n",
       "AA34951607                      299.136069                   299.136069   \n",
       "AA34952052                      226.781857                   226.781857   \n",
       "AA34952182                      154.967603                   151.187905   \n",
       "AA34952401                      129.049676                   116.630670   \n",
       "AA34952591                      187.365011                   187.365011   \n",
       "AA34952770                      299.136069                   299.136069   \n",
       "AA34953248                       91.252700                    92.872570   \n",
       "AA34953251                      120.950324                    93.412527   \n",
       "AA34953307                      231.101512                   197.624190   \n",
       "AA34953866                      306.695464                   210.583153   \n",
       "AA34954197                      157.127430                   127.969762   \n",
       "AA34955529                     1070.194384                  1070.194384   \n",
       "AA34955622                      232.181425                   205.723542   \n",
       "AA34959789                      187.904968                    80.453564   \n",
       "\n",
       "            scheduled_flying_distance_sim  actual_flying_distance_sim  \\\n",
       "AA34904620                          84.23                       84.23   \n",
       "AA34907163                          84.23                       84.23   \n",
       "AA34910695                         241.36                      241.36   \n",
       "AA34911296                          21.06                       21.06   \n",
       "AA34911437                          21.06                       21.06   \n",
       "AA34911809                         150.65                      150.65   \n",
       "AA34911823                         233.26                      215.67   \n",
       "AA34911871                         116.09                      116.09   \n",
       "AA34911922                         116.09                      116.09   \n",
       "AA34912027                         116.09                      116.09   \n",
       "AA34912573                          21.06                       21.06   \n",
       "AA34913192                         189.52                      219.87   \n",
       "AA34913215                         189.52                      204.22   \n",
       "AA34913278                         189.52                      176.09   \n",
       "AA34913315                         189.52                      180.11   \n",
       "AA34913617                          21.06                       21.06   \n",
       "AA34913846                         201.40                      190.45   \n",
       "AA34913869                          68.03                       68.03   \n",
       "AA34914263                         103.67                      103.67   \n",
       "AA34914943                         103.67                      103.67   \n",
       "AA34915206                         856.37                      863.88   \n",
       "AA34915604                          66.41                       66.41   \n",
       "AA34916014                         237.58                      222.48   \n",
       "AA34916048                         103.67                      103.67   \n",
       "AA34916510                         200.32                      200.32   \n",
       "AA34916993                         418.47                      416.47   \n",
       "AA34917019                          21.06                       21.06   \n",
       "AA34917050                         171.17                      162.65   \n",
       "AA34917425                         225.16                      225.16   \n",
       "AA34917595                         241.36                      241.36   \n",
       "...                                   ...                         ...   \n",
       "AA34948078                         433.59                      422.12   \n",
       "AA34948187                         275.92                      288.80   \n",
       "AA34948250                         277.54                      277.54   \n",
       "AA34948321                         238.66                      238.66   \n",
       "AA34948690                         309.40                      316.50   \n",
       "AA34948908                         275.38                      281.13   \n",
       "AA34949281                         237.58                      250.06   \n",
       "AA34949622                         151.19                      151.19   \n",
       "AA34950022                         264.04                      264.04   \n",
       "AA34950219                         237.58                      215.59   \n",
       "AA34950657                         166.85                      167.08   \n",
       "AA34951029                         185.21                      185.21   \n",
       "AA34951063                         532.94                      514.42   \n",
       "AA34951168                         144.17                      144.17   \n",
       "AA34951292                         744.06                      716.29   \n",
       "AA34951595                         222.46                      212.23   \n",
       "AA34951607                         237.58                      222.63   \n",
       "AA34952052                         312.10                      328.86   \n",
       "AA34952182                         192.22                      192.22   \n",
       "AA34952401                         179.81                      173.22   \n",
       "AA34952591                         246.22                      239.47   \n",
       "AA34952770                         237.58                      257.43   \n",
       "AA34953248                         112.31                      112.31   \n",
       "AA34953251                          85.85                       85.85   \n",
       "AA34953307                         277.54                      265.99   \n",
       "AA34953866                         227.32                      214.41   \n",
       "AA34954197                         119.87                      119.87   \n",
       "AA34955529                         744.06                      728.48   \n",
       "AA34955622                         280.78                      279.24   \n",
       "AA34959789                         131.75                      131.75   \n",
       "\n",
       "              diff_sch     ratio  \n",
       "AA34904620  -45.899590 -0.352722  \n",
       "AA34907163  -39.960065 -0.321765  \n",
       "AA34910695   62.094341  0.346382  \n",
       "AA34911296  -10.257495 -0.327532  \n",
       "AA34911437  -10.257495 -0.327532  \n",
       "AA34911809  -40.494708 -0.211854  \n",
       "AA34911823  -83.694644 -0.264059  \n",
       "AA34911871   66.953931  1.362623  \n",
       "AA34911922   66.953931  1.362623  \n",
       "AA34912027   66.953931  1.362623  \n",
       "AA34912573  -10.257495 -0.327532  \n",
       "AA34913192  -87.477840 -0.315807  \n",
       "AA34913215  -87.477840 -0.315807  \n",
       "AA34913278  -87.477840 -0.315807  \n",
       "AA34913315  -87.477840 -0.315807  \n",
       "AA34913617  -10.257495 -0.327532  \n",
       "AA34913846  -68.038445 -0.252519  \n",
       "AA34913869   14.034320  0.259916  \n",
       "AA34914263  -57.777084 -0.357870  \n",
       "AA34914943  -57.777084 -0.357870  \n",
       "AA34915206 -308.316825 -0.264721  \n",
       "AA34915604  -21.602959 -0.245452  \n",
       "AA34916014  -61.556069 -0.205779  \n",
       "AA34916048  -50.757646 -0.328682  \n",
       "AA34916510  -59.399222 -0.228706  \n",
       "AA34916993   92.336091  0.283123  \n",
       "AA34917019  -10.257495 -0.327532  \n",
       "AA34917050  -62.091339 -0.266188  \n",
       "AA34917425   69.112484  0.442894  \n",
       "AA34917595   62.094341  0.346382  \n",
       "...                ...       ...  \n",
       "AA34948078   73.438812  0.203911  \n",
       "AA34948187  -71.812181 -0.206516  \n",
       "AA34948250   59.937408  0.275444  \n",
       "AA34948321  133.368423  1.266658  \n",
       "AA34948690   97.736933  0.461757  \n",
       "AA34948908  -81.531447 -0.228436  \n",
       "AA34949281  -61.556069 -0.205779  \n",
       "AA34949622  -39.954708 -0.209029  \n",
       "AA34950022   46.437408  0.213405  \n",
       "AA34950219  -61.556069 -0.205779  \n",
       "AA34950657  -44.813067 -0.211719  \n",
       "AA34951029   52.920583  0.400036  \n",
       "AA34951063  111.233737  0.263771  \n",
       "AA34951168  -42.115097 -0.226079  \n",
       "AA34951292 -326.134384 -0.304743  \n",
       "AA34951595   37.794773  0.204666  \n",
       "AA34951607  -61.556069 -0.205779  \n",
       "AA34952052   85.318143  0.376212  \n",
       "AA34952182   37.252397  0.240388  \n",
       "AA34952401   50.760324  0.393339  \n",
       "AA34952591   58.854989  0.314119  \n",
       "AA34952770  -61.556069 -0.205779  \n",
       "AA34953248   21.057300  0.230758  \n",
       "AA34953251  -35.100324 -0.290204  \n",
       "AA34953307   46.438488  0.200944  \n",
       "AA34953866  -79.375464 -0.258809  \n",
       "AA34954197  -37.257430 -0.237116  \n",
       "AA34955529 -326.134384 -0.304743  \n",
       "AA34955622   48.598575  0.209313  \n",
       "AA34959789  -56.154968 -0.298848  \n",
       "\n",
       "[371 rows x 6 columns]"
      ]
     },
     "execution_count": 191,
     "metadata": {},
     "output_type": "execute_result"
    }
   ],
   "source": [
    "pouet = go[abs(go['diff_sch']/go['scheduled_flying_distance_hist'])>0.2]\n",
    "pouet['ratio'] = pouet['diff_sch']/pouet['scheduled_flying_distance_hist']\n",
    "pouet"
   ]
  },
  {
   "cell_type": "code",
   "execution_count": 192,
   "metadata": {},
   "outputs": [],
   "source": [
    "pouet.to_csv('diff_distance.csv')"
   ]
  },
  {
   "cell_type": "code",
   "execution_count": null,
   "metadata": {},
   "outputs": [],
   "source": []
  }
 ],
 "metadata": {
  "kernelspec": {
   "display_name": "Python 3",
   "language": "python",
   "name": "python3"
  },
  "language_info": {
   "codemirror_mode": {
    "name": "ipython",
    "version": 3
   },
   "file_extension": ".py",
   "mimetype": "text/x-python",
   "name": "python",
   "nbconvert_exporter": "python",
   "pygments_lexer": "ipython3",
   "version": "3.5.2"
  }
 },
 "nbformat": 4,
 "nbformat_minor": 2
}
